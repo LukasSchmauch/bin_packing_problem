{
  "nbformat": 4,
  "nbformat_minor": 0,
  "metadata": {
    "colab": {
      "name": "Ergebnisse.ipynb",
      "provenance": [],
      "collapsed_sections": [],
      "toc_visible": true,
      "authorship_tag": "ABX9TyMzWRBBp5b55LTYFtiUDtPd",
      "include_colab_link": true
    },
    "kernelspec": {
      "name": "python3",
      "display_name": "Python 3"
    }
  },
  "cells": [
    {
      "cell_type": "markdown",
      "metadata": {
        "id": "view-in-github",
        "colab_type": "text"
      },
      "source": [
        "<a href=\"https://colab.research.google.com/github/LukasSchmauch/bin_packing_problem/blob/main/06_Ergebnisse.ipynb\" target=\"_parent\"><img src=\"https://colab.research.google.com/assets/colab-badge.svg\" alt=\"Open In Colab\"/></a>"
      ]
    },
    {
      "cell_type": "markdown",
      "metadata": {
        "id": "-8AvZ7mdxU43"
      },
      "source": [
        "# Grafiken für Präsentation/ Ausarbeitung"
      ]
    },
    {
      "cell_type": "code",
      "metadata": {
        "id": "WqZc8lTIZUop"
      },
      "source": [
        "import pandas as pd\n",
        "import seaborn as sns\n",
        "import matplotlib.pyplot as plt\n",
        "import numpy as np"
      ],
      "execution_count": 1,
      "outputs": []
    },
    {
      "cell_type": "code",
      "metadata": {
        "id": "VwJ9DF7TIKs4"
      },
      "source": [
        "def get_num_lb(df, typ,max_time):\n",
        "  df_typ = df[df['Typ']==typ]\n",
        "  df_typ_sec = df_typ[df_typ['elapsed_time']<max_time] \n",
        "  return df_typ_sec.groupby(['Typ','Anzahl_Items','Bin_Kapazitaet']).sum().Hit_LB.values\n",
        "\n",
        "def get_wc_deviation(df, typ, max_time):\n",
        "  df_typ = df[df['Typ']==typ]\n",
        "  df_typ_sec = df_typ[df_typ['elapsed_time']<max_time]\n",
        "  df_by_instance = df_typ_sec.groupby(['Instanzindex']).min()\n",
        "  return df_by_instance.groupby('Anzahl_Items').max().Bins_beyond_LB.values\n",
        "\n",
        "def get_mean_deviation(df, typ, max_time):\n",
        "  df_typ = df[df['Typ']==typ]\n",
        "  df_typ_sec = df_typ[df_typ['elapsed_time']<max_time]\n",
        "  df_by_instance = df_typ_sec.groupby(['Instanzindex']).min()\n",
        "  return df_by_instance.groupby('Anzahl_Items').mean().Bins_beyond_LB.values\n",
        "\n",
        "def extract_yvalues_pertimestep(df, num_items, type, timesteps):\n",
        "  df_itemsize = df[df['Anzahl_Items']==num_items]\n",
        "  df_type = df_itemsize[df_itemsize['Typ']==type]\n",
        "  mean_lbs_pertimestep = []\n",
        "  for xtimestep in timesteps: \n",
        "    mean_lbs_pertimestep.append(df_type[df_type['elapsed_time']<xtimestep].groupby('Instanzindex').min().Bins_beyond_LB.values.mean())\n",
        "  return mean_lbs_pertimestep\n",
        "\n",
        "def create_barplot_uniform_hitlb(df):\n",
        "  fig = plt.figure(figsize=(12,8))\n",
        "  ax = fig.add_subplot(111)\n",
        "  timesteps = [1.01,20.01,100.01]\n",
        "  N = len(get_num_lb(df, 'uniform', timesteps[0]))\n",
        "  ind = np.arange(N)  # the x locations for the groups\n",
        "  width = 0.27       # the width of the bars\n",
        "  yvals = get_num_lb(df, 'uniform', timesteps[0])\n",
        "  rects1 = ax.bar(ind, yvals, width, color='darkblue')\n",
        "  zvals = get_num_lb(df, 'uniform', timesteps[1])\n",
        "  rects2 = ax.bar(ind+width, zvals, width, color='blue')\n",
        "  kvals = get_num_lb(df, 'uniform', timesteps[2])\n",
        "  rects3 = ax.bar(ind+width*2, kvals, width, color='lightblue')\n",
        "  ax.set_ylabel('Scores')\n",
        "  ax.set_xticks(ind+width)\n",
        "  ax.set_xticklabels(('(U,120,150)', '(U,250,150)', '(U,500,150)','(U,1000,150)'))\n",
        "  ax.hlines(20,-0.2,3.7, label='# Instanzen', color='darkred')\n",
        "  ax.legend( (rects1[0], rects2[0], rects3[0]), ('1 sec', '20 sec', '100 sec'))\n",
        "  plt.title('Anzahl getroffener LBs (bei vorgegebene Rechenzeit)', fontsize=20)\n",
        "  plt.xticks(fontsize=15)\n",
        "  plt.yticks(fontsize=15)\n",
        "  plt.xlabel('Instanzgruppen', fontsize=20)\n",
        "  plt.ylabel('Anzahl getroffener LBs', fontsize=20)\n",
        "\n",
        "def create_barplot_uniform_hard_hitlb(df_unif, df_hard):\n",
        "  fig = plt.figure(figsize=(12,8))\n",
        "  ax = fig.add_subplot(111)\n",
        "  timesteps = [1.01,20.01,100.01]\n",
        "  N = len(get_num_lb(df_unif, 'uniform', timesteps[0])) + 1\n",
        "  ind = np.arange(N)  # the x locations for the groups\n",
        "  width = 0.27       # the width of the bars\n",
        "  y_vals = np.append(get_num_lb(df_unif, 'uniform', timesteps[0]),get_num_lb(df_hard, 'hard', timesteps[0]))\n",
        "  rects1 = ax.bar(ind, yvals, width, color='darkblue')\n",
        "  zvals = get_num_lb(df_unif, 'uniform', timesteps[1])\n",
        "  zvals.append(get_num_lb(df_hard, 'hard', timesteps[1]))\n",
        "  rects2 = ax.bar(ind+width, zvals, width, color='blue')\n",
        "  kvals = get_num_lb(df_unif, 'uniform', timesteps[2])\n",
        "  kvals.append(get_num_lb(df_hard, 'hard', timesteps[2]))\n",
        "  rects3 = ax.bar(ind+width*2, kvals, width, color='lightblue')\n",
        "  ax.set_ylabel('Scores')\n",
        "  ax.set_xticks(ind+width)\n",
        "  ax.set_xticklabels(('(U,120,150)', '(U,250,150)', '(U,500,150)','(U,1000,150)','(T,1000,150)'))\n",
        "  ax.hlines(20,-0.2,3.7, label='# Instanzen', color='darkred')\n",
        "  ax.legend( (rects1[0], rects2[0], rects3[0]), ('1 sec', '20 sec', '100 sec'))\n",
        "  plt.title('Anzahl getroffener LBs (bei vorgegebene Rechenzeit)', fontsize=20)\n",
        "  plt.xticks(fontsize=15)\n",
        "  plt.yticks(fontsize=15)\n",
        "  plt.xlabel('Instanzgruppen', fontsize=20)\n",
        "  plt.ylabel('Anzahl getroffener LBs', fontsize=20)\n",
        "\n",
        "def create_barplot_triplet_hitlb(df):\n",
        "  fig = plt.figure(figsize=(12,8))\n",
        "  ax = fig.add_subplot(111)\n",
        "  timesteps = [1.01,20.01,100.01]\n",
        "  N = len(get_num_lb(df, 'triplet', timesteps[0]))\n",
        "  ind = np.arange(N)  # the x locations for the groups\n",
        "  width = 0.27       # the width of the bars\n",
        "  yvals = get_num_lb(df, 'triplet', timesteps[0])\n",
        "  rects1 = ax.bar(ind, yvals, width, color='darkblue')\n",
        "  zvals = get_num_lb(df, 'triplet', timesteps[1])\n",
        "  rects2 = ax.bar(ind+width, zvals, width, color='blue')\n",
        "  kvals = get_num_lb(df, 'triplet', timesteps[2])\n",
        "  rects3 = ax.bar(ind+width*2, kvals, width, color='lightblue')\n",
        "  ax.set_ylabel('Scores')\n",
        "  ax.set_xticks(ind+width)\n",
        "  #ax.set_xticklabels(('(T,120,150)', '(T,250,150)', '(T,500,150)','(T,1000,150)'))\n",
        "  ax.hlines(20,-0.2,3.7, label='# Instanzen', color='darkred')\n",
        "  ax.legend( (rects1[0], rects2[0], rects3[0]), ('1 sec', '20 sec', '100 sec'))\n",
        "  plt.title('Anzahl gefundener LBs (bei vorgegebene Rechenzeit)', fontsize=20)\n",
        "  plt.xticks(fontsize=15)\n",
        "  plt.yticks(fontsize=15)\n",
        "  plt.xlabel('Instanzgruppen', fontsize=20)\n",
        "  plt.ylabel('Anzahl getroffener LBs', fontsize=20)\n",
        "\n",
        "def get_rel_abweichung(df, typ,max_time):\n",
        "  df_typ = df[df['Typ']==typ]\n",
        "  df_typ_sec = df_typ[df_typ['elapsed_time']<max_time] \n",
        "  df_grouped_by_instance = df_typ_sec.groupby('Instanzindex').min()\n",
        "  df_grouped_by_instance['rel_Abweichung'] = 100*(df_grouped_by_instance['Bins_beyond_LB'] / df_grouped_by_instance['LB'])\n",
        "  return df_grouped_by_instance"
      ],
      "execution_count": null,
      "outputs": []
    },
    {
      "cell_type": "markdown",
      "metadata": {
        "id": "tlnT--uMHI1H"
      },
      "source": [
        "# Permutation Random (Original Verfahren)"
      ]
    },
    {
      "cell_type": "markdown",
      "metadata": {
        "id": "DLoknvs8Kow6"
      },
      "source": [
        "## Übersicht"
      ]
    },
    {
      "cell_type": "markdown",
      "metadata": {
        "id": "lAfxGB2YCV4V"
      },
      "source": [
        "### FFD"
      ]
    },
    {
      "cell_type": "markdown",
      "metadata": {
        "id": "IwQry_GBn7ZX"
      },
      "source": [
        "#### Uniform"
      ]
    },
    {
      "cell_type": "code",
      "metadata": {
        "colab": {
          "base_uri": "https://localhost:8080/",
          "height": 197
        },
        "id": "s9DUdXICPGQ7",
        "outputId": "7ffb8077-b5d7-4c98-8ef1-3ba4b89fa6e6"
      },
      "source": [
        "url = 'https://raw.githubusercontent.com/LukasSchmauch/bin_packing_problem/main/01_Ergebnisse_final/FFD/results_zeitmessung_FFD.csv'\n",
        "df = pd.read_csv(url)\n",
        "df_typ = df[df['Typ']=='uniform']\n",
        "df_typ_sec = df_typ[df_typ['elapsed_time']<100.01]\n",
        "df_by_instance = df_typ_sec.groupby(['Instanzindex']).min()\n",
        "df_by_instance.groupby('Anzahl_Items').mean().drop(['Iteration','elapsed_time','Hit_LB'], axis = 1)"
      ],
      "execution_count": null,
      "outputs": [
        {
          "output_type": "execute_result",
          "data": {
            "text/html": [
              "<div>\n",
              "<style scoped>\n",
              "    .dataframe tbody tr th:only-of-type {\n",
              "        vertical-align: middle;\n",
              "    }\n",
              "\n",
              "    .dataframe tbody tr th {\n",
              "        vertical-align: top;\n",
              "    }\n",
              "\n",
              "    .dataframe thead th {\n",
              "        text-align: right;\n",
              "    }\n",
              "</style>\n",
              "<table border=\"1\" class=\"dataframe\">\n",
              "  <thead>\n",
              "    <tr style=\"text-align: right;\">\n",
              "      <th></th>\n",
              "      <th>Bin_Kapazitaet</th>\n",
              "      <th>LB</th>\n",
              "      <th>HC</th>\n",
              "      <th>Bins_beyond_LB</th>\n",
              "    </tr>\n",
              "    <tr>\n",
              "      <th>Anzahl_Items</th>\n",
              "      <th></th>\n",
              "      <th></th>\n",
              "      <th></th>\n",
              "      <th></th>\n",
              "    </tr>\n",
              "  </thead>\n",
              "  <tbody>\n",
              "    <tr>\n",
              "      <th>120</th>\n",
              "      <td>150.0</td>\n",
              "      <td>49.05</td>\n",
              "      <td>49.75</td>\n",
              "      <td>0.70</td>\n",
              "    </tr>\n",
              "    <tr>\n",
              "      <th>250</th>\n",
              "      <td>150.0</td>\n",
              "      <td>101.55</td>\n",
              "      <td>103.10</td>\n",
              "      <td>1.55</td>\n",
              "    </tr>\n",
              "    <tr>\n",
              "      <th>500</th>\n",
              "      <td>150.0</td>\n",
              "      <td>201.20</td>\n",
              "      <td>203.90</td>\n",
              "      <td>2.70</td>\n",
              "    </tr>\n",
              "    <tr>\n",
              "      <th>1000</th>\n",
              "      <td>150.0</td>\n",
              "      <td>400.55</td>\n",
              "      <td>405.40</td>\n",
              "      <td>4.85</td>\n",
              "    </tr>\n",
              "  </tbody>\n",
              "</table>\n",
              "</div>"
            ],
            "text/plain": [
              "              Bin_Kapazitaet      LB      HC  Bins_beyond_LB\n",
              "Anzahl_Items                                                \n",
              "120                    150.0   49.05   49.75            0.70\n",
              "250                    150.0  101.55  103.10            1.55\n",
              "500                    150.0  201.20  203.90            2.70\n",
              "1000                   150.0  400.55  405.40            4.85"
            ]
          },
          "metadata": {
            "tags": []
          },
          "execution_count": 4
        }
      ]
    },
    {
      "cell_type": "markdown",
      "metadata": {
        "id": "KNJDfUGon_Ng"
      },
      "source": [
        "#### Hard"
      ]
    },
    {
      "cell_type": "code",
      "metadata": {
        "colab": {
          "base_uri": "https://localhost:8080/",
          "height": 107
        },
        "id": "0-DMYYg2CXmH",
        "outputId": "5d7efbc7-5712-446a-862f-8fd456b4f79b"
      },
      "source": [
        "url = 'https://raw.githubusercontent.com/LukasSchmauch/bin_packing_problem/main/01_Ergebnisse_final/FFD/results_zeitmessung_FFD.csv'\n",
        "df = pd.read_csv(url)\n",
        "df_typ = df[df['Typ']=='hard']\n",
        "df_typ_sec = df_typ[df_typ['elapsed_time']<100.01]\n",
        "df_by_instance = df_typ_sec.groupby(['Instanzindex']).min()\n",
        "df_by_instance.groupby('Anzahl_Items').mean().drop(['Iteration','elapsed_time','Hit_LB'], axis = 1)"
      ],
      "execution_count": null,
      "outputs": [
        {
          "output_type": "execute_result",
          "data": {
            "text/html": [
              "<div>\n",
              "<style scoped>\n",
              "    .dataframe tbody tr th:only-of-type {\n",
              "        vertical-align: middle;\n",
              "    }\n",
              "\n",
              "    .dataframe tbody tr th {\n",
              "        vertical-align: top;\n",
              "    }\n",
              "\n",
              "    .dataframe thead th {\n",
              "        text-align: right;\n",
              "    }\n",
              "</style>\n",
              "<table border=\"1\" class=\"dataframe\">\n",
              "  <thead>\n",
              "    <tr style=\"text-align: right;\">\n",
              "      <th></th>\n",
              "      <th>Bin_Kapazitaet</th>\n",
              "      <th>LB</th>\n",
              "      <th>HC</th>\n",
              "      <th>Bins_beyond_LB</th>\n",
              "    </tr>\n",
              "    <tr>\n",
              "      <th>Anzahl_Items</th>\n",
              "      <th></th>\n",
              "      <th></th>\n",
              "      <th></th>\n",
              "      <th></th>\n",
              "    </tr>\n",
              "  </thead>\n",
              "  <tbody>\n",
              "    <tr>\n",
              "      <th>200</th>\n",
              "      <td>100000.0</td>\n",
              "      <td>55.5</td>\n",
              "      <td>59.6</td>\n",
              "      <td>4.1</td>\n",
              "    </tr>\n",
              "  </tbody>\n",
              "</table>\n",
              "</div>"
            ],
            "text/plain": [
              "              Bin_Kapazitaet    LB    HC  Bins_beyond_LB\n",
              "Anzahl_Items                                            \n",
              "200                 100000.0  55.5  59.6             4.1"
            ]
          },
          "metadata": {
            "tags": []
          },
          "execution_count": 5
        }
      ]
    },
    {
      "cell_type": "markdown",
      "metadata": {
        "id": "FqBxHlBwoE15"
      },
      "source": [
        "#### Triplet"
      ]
    },
    {
      "cell_type": "code",
      "metadata": {
        "colab": {
          "base_uri": "https://localhost:8080/",
          "height": 197
        },
        "id": "L-mFxUf2PCvI",
        "outputId": "e486102f-83d7-4f70-a1b2-7b8ddc734de9"
      },
      "source": [
        "url = 'https://raw.githubusercontent.com/LukasSchmauch/bin_packing_problem/main/01_Ergebnisse_final/FFD/results_zeitmessung_FFD.csv'\n",
        "df = pd.read_csv(url)\n",
        "df_typ = df[df['Typ']=='triplet']\n",
        "df_typ_sec = df_typ[df_typ['elapsed_time']<100.01]\n",
        "df_by_instance = df_typ_sec.groupby(['Instanzindex']).min()\n",
        "df_by_instance.groupby('Anzahl_Items').mean().drop(['Iteration','elapsed_time','Hit_LB'], axis = 1)"
      ],
      "execution_count": null,
      "outputs": [
        {
          "output_type": "execute_result",
          "data": {
            "text/html": [
              "<div>\n",
              "<style scoped>\n",
              "    .dataframe tbody tr th:only-of-type {\n",
              "        vertical-align: middle;\n",
              "    }\n",
              "\n",
              "    .dataframe tbody tr th {\n",
              "        vertical-align: top;\n",
              "    }\n",
              "\n",
              "    .dataframe thead th {\n",
              "        text-align: right;\n",
              "    }\n",
              "</style>\n",
              "<table border=\"1\" class=\"dataframe\">\n",
              "  <thead>\n",
              "    <tr style=\"text-align: right;\">\n",
              "      <th></th>\n",
              "      <th>Bin_Kapazitaet</th>\n",
              "      <th>LB</th>\n",
              "      <th>HC</th>\n",
              "      <th>Bins_beyond_LB</th>\n",
              "    </tr>\n",
              "    <tr>\n",
              "      <th>Anzahl_Items</th>\n",
              "      <th></th>\n",
              "      <th></th>\n",
              "      <th></th>\n",
              "      <th></th>\n",
              "    </tr>\n",
              "  </thead>\n",
              "  <tbody>\n",
              "    <tr>\n",
              "      <th>60</th>\n",
              "      <td>1000.0</td>\n",
              "      <td>20.0</td>\n",
              "      <td>23.20</td>\n",
              "      <td>3.20</td>\n",
              "    </tr>\n",
              "    <tr>\n",
              "      <th>120</th>\n",
              "      <td>1000.0</td>\n",
              "      <td>40.0</td>\n",
              "      <td>45.80</td>\n",
              "      <td>5.80</td>\n",
              "    </tr>\n",
              "    <tr>\n",
              "      <th>249</th>\n",
              "      <td>1000.0</td>\n",
              "      <td>83.0</td>\n",
              "      <td>95.00</td>\n",
              "      <td>12.00</td>\n",
              "    </tr>\n",
              "    <tr>\n",
              "      <th>501</th>\n",
              "      <td>1000.0</td>\n",
              "      <td>167.0</td>\n",
              "      <td>190.05</td>\n",
              "      <td>23.05</td>\n",
              "    </tr>\n",
              "  </tbody>\n",
              "</table>\n",
              "</div>"
            ],
            "text/plain": [
              "              Bin_Kapazitaet     LB      HC  Bins_beyond_LB\n",
              "Anzahl_Items                                               \n",
              "60                    1000.0   20.0   23.20            3.20\n",
              "120                   1000.0   40.0   45.80            5.80\n",
              "249                   1000.0   83.0   95.00           12.00\n",
              "501                   1000.0  167.0  190.05           23.05"
            ]
          },
          "metadata": {
            "tags": []
          },
          "execution_count": 6
        }
      ]
    },
    {
      "cell_type": "markdown",
      "metadata": {
        "id": "ANVduJzdoS1o"
      },
      "source": [
        ""
      ]
    },
    {
      "cell_type": "markdown",
      "metadata": {
        "id": "Eiw4BcpWoVzW"
      },
      "source": [
        "### Standardverfahren"
      ]
    },
    {
      "cell_type": "markdown",
      "metadata": {
        "id": "8HvwCOUg7Kma"
      },
      "source": [
        "#### Uniform 100 sec"
      ]
    },
    {
      "cell_type": "code",
      "metadata": {
        "colab": {
          "base_uri": "https://localhost:8080/",
          "height": 197
        },
        "id": "ohvuELhc7Q89",
        "outputId": "c87c1e2d-4549-4ac8-ba5f-0103a0dafb09"
      },
      "source": [
        "url = 'https://raw.githubusercontent.com/LukasSchmauch/bin_packing_problem/main/01_Ergebnisse_final/Standardverfahren/results_zeitmessung_u_seed_100sec.csv'\n",
        "df = pd.read_csv(url)\n",
        "df_typ = df[df['Typ']=='uniform']\n",
        "df_typ_sec = df_typ[df_typ['elapsed_time']<100.01]\n",
        "df_by_instance = df_typ_sec.groupby(['Instanzindex']).min()\n",
        "df_by_instance.groupby('Anzahl_Items').mean().drop(['Iteration','elapsed_time','Hit_LB'], axis = 1)\n"
      ],
      "execution_count": null,
      "outputs": [
        {
          "output_type": "execute_result",
          "data": {
            "text/html": [
              "<div>\n",
              "<style scoped>\n",
              "    .dataframe tbody tr th:only-of-type {\n",
              "        vertical-align: middle;\n",
              "    }\n",
              "\n",
              "    .dataframe tbody tr th {\n",
              "        vertical-align: top;\n",
              "    }\n",
              "\n",
              "    .dataframe thead th {\n",
              "        text-align: right;\n",
              "    }\n",
              "</style>\n",
              "<table border=\"1\" class=\"dataframe\">\n",
              "  <thead>\n",
              "    <tr style=\"text-align: right;\">\n",
              "      <th></th>\n",
              "      <th>Bin_Kapazitaet</th>\n",
              "      <th>LB</th>\n",
              "      <th>HC</th>\n",
              "      <th>Bins_beyond_LB</th>\n",
              "    </tr>\n",
              "    <tr>\n",
              "      <th>Anzahl_Items</th>\n",
              "      <th></th>\n",
              "      <th></th>\n",
              "      <th></th>\n",
              "      <th></th>\n",
              "    </tr>\n",
              "  </thead>\n",
              "  <tbody>\n",
              "    <tr>\n",
              "      <th>120</th>\n",
              "      <td>150.0</td>\n",
              "      <td>49.05</td>\n",
              "      <td>49.10</td>\n",
              "      <td>0.05</td>\n",
              "    </tr>\n",
              "    <tr>\n",
              "      <th>250</th>\n",
              "      <td>150.0</td>\n",
              "      <td>101.55</td>\n",
              "      <td>101.80</td>\n",
              "      <td>0.25</td>\n",
              "    </tr>\n",
              "    <tr>\n",
              "      <th>500</th>\n",
              "      <td>150.0</td>\n",
              "      <td>201.20</td>\n",
              "      <td>201.35</td>\n",
              "      <td>0.15</td>\n",
              "    </tr>\n",
              "    <tr>\n",
              "      <th>1000</th>\n",
              "      <td>150.0</td>\n",
              "      <td>400.55</td>\n",
              "      <td>400.80</td>\n",
              "      <td>0.25</td>\n",
              "    </tr>\n",
              "  </tbody>\n",
              "</table>\n",
              "</div>"
            ],
            "text/plain": [
              "              Bin_Kapazitaet      LB      HC  Bins_beyond_LB\n",
              "Anzahl_Items                                                \n",
              "120                    150.0   49.05   49.10            0.05\n",
              "250                    150.0  101.55  101.80            0.25\n",
              "500                    150.0  201.20  201.35            0.15\n",
              "1000                   150.0  400.55  400.80            0.25"
            ]
          },
          "metadata": {
            "tags": []
          },
          "execution_count": 10
        }
      ]
    },
    {
      "cell_type": "code",
      "metadata": {
        "colab": {
          "base_uri": "https://localhost:8080/",
          "height": 197
        },
        "id": "jPUOaggZ7f4w",
        "outputId": "71f5c37c-15d1-4d99-eca1-0b1150e10c7a"
      },
      "source": [
        "url = 'https://raw.githubusercontent.com/LukasSchmauch/bin_packing_problem/main/01_Ergebnisse_final/Standardverfahren/results_zeitmessung_u_seed_100sec.csv'\n",
        "df = pd.read_csv(url)\n",
        "df_typ = df[df['Typ']=='uniform']\n",
        "df_typ_sec = df_typ[df_typ['elapsed_time']<100.01]\n",
        "df_by_instance = df_typ_sec.groupby(['Instanzindex']).max()\n",
        "df_by_instance.groupby('Anzahl_Items').mean().drop(['Bins_beyond_LB','HC','Hit_LB'], axis = 1)"
      ],
      "execution_count": null,
      "outputs": [
        {
          "output_type": "execute_result",
          "data": {
            "text/html": [
              "<div>\n",
              "<style scoped>\n",
              "    .dataframe tbody tr th:only-of-type {\n",
              "        vertical-align: middle;\n",
              "    }\n",
              "\n",
              "    .dataframe tbody tr th {\n",
              "        vertical-align: top;\n",
              "    }\n",
              "\n",
              "    .dataframe thead th {\n",
              "        text-align: right;\n",
              "    }\n",
              "</style>\n",
              "<table border=\"1\" class=\"dataframe\">\n",
              "  <thead>\n",
              "    <tr style=\"text-align: right;\">\n",
              "      <th></th>\n",
              "      <th>Bin_Kapazitaet</th>\n",
              "      <th>LB</th>\n",
              "      <th>Iteration</th>\n",
              "      <th>elapsed_time</th>\n",
              "    </tr>\n",
              "    <tr>\n",
              "      <th>Anzahl_Items</th>\n",
              "      <th></th>\n",
              "      <th></th>\n",
              "      <th></th>\n",
              "      <th></th>\n",
              "    </tr>\n",
              "  </thead>\n",
              "  <tbody>\n",
              "    <tr>\n",
              "      <th>120</th>\n",
              "      <td>150.0</td>\n",
              "      <td>49.05</td>\n",
              "      <td>311.55</td>\n",
              "      <td>6.235078</td>\n",
              "    </tr>\n",
              "    <tr>\n",
              "      <th>250</th>\n",
              "      <td>150.0</td>\n",
              "      <td>101.55</td>\n",
              "      <td>730.10</td>\n",
              "      <td>27.189304</td>\n",
              "    </tr>\n",
              "    <tr>\n",
              "      <th>500</th>\n",
              "      <td>150.0</td>\n",
              "      <td>201.20</td>\n",
              "      <td>279.00</td>\n",
              "      <td>25.732400</td>\n",
              "    </tr>\n",
              "    <tr>\n",
              "      <th>1000</th>\n",
              "      <td>150.0</td>\n",
              "      <td>400.55</td>\n",
              "      <td>146.40</td>\n",
              "      <td>42.906083</td>\n",
              "    </tr>\n",
              "  </tbody>\n",
              "</table>\n",
              "</div>"
            ],
            "text/plain": [
              "              Bin_Kapazitaet      LB  Iteration  elapsed_time\n",
              "Anzahl_Items                                                 \n",
              "120                    150.0   49.05     311.55      6.235078\n",
              "250                    150.0  101.55     730.10     27.189304\n",
              "500                    150.0  201.20     279.00     25.732400\n",
              "1000                   150.0  400.55     146.40     42.906083"
            ]
          },
          "metadata": {
            "tags": []
          },
          "execution_count": 62
        }
      ]
    },
    {
      "cell_type": "markdown",
      "metadata": {
        "id": "QSzlj-MRE8sw"
      },
      "source": [
        "#### Hard 100 sec"
      ]
    },
    {
      "cell_type": "code",
      "metadata": {
        "colab": {
          "base_uri": "https://localhost:8080/",
          "height": 107
        },
        "id": "-8YJNxB4E73y",
        "outputId": "a6c8c5bf-f0d3-495f-e1b7-aba40a1a9abe"
      },
      "source": [
        "url = 'https://raw.githubusercontent.com/LukasSchmauch/bin_packing_problem/main/01_Ergebnisse_final/Standardverfahren/results_zeitmessung_hard_StandardSEED123_150sec.csv'\n",
        "df = pd.read_csv(url)\n",
        "df_typ = df[df['Typ']=='hard']\n",
        "df_typ_sec = df_typ[df_typ['elapsed_time']<100.01]\n",
        "df_by_instance = df_typ_sec.groupby(['Instanzindex']).min()\n",
        "df_by_instance.groupby('Anzahl_Items').mean().drop(['Iteration','Hit_LB','elapsed_time'],axis=1)\n"
      ],
      "execution_count": null,
      "outputs": [
        {
          "output_type": "execute_result",
          "data": {
            "text/html": [
              "<div>\n",
              "<style scoped>\n",
              "    .dataframe tbody tr th:only-of-type {\n",
              "        vertical-align: middle;\n",
              "    }\n",
              "\n",
              "    .dataframe tbody tr th {\n",
              "        vertical-align: top;\n",
              "    }\n",
              "\n",
              "    .dataframe thead th {\n",
              "        text-align: right;\n",
              "    }\n",
              "</style>\n",
              "<table border=\"1\" class=\"dataframe\">\n",
              "  <thead>\n",
              "    <tr style=\"text-align: right;\">\n",
              "      <th></th>\n",
              "      <th>Bin_Kapazitaet</th>\n",
              "      <th>LB</th>\n",
              "      <th>HC</th>\n",
              "      <th>Bins_beyond_LB</th>\n",
              "    </tr>\n",
              "    <tr>\n",
              "      <th>Anzahl_Items</th>\n",
              "      <th></th>\n",
              "      <th></th>\n",
              "      <th></th>\n",
              "      <th></th>\n",
              "    </tr>\n",
              "  </thead>\n",
              "  <tbody>\n",
              "    <tr>\n",
              "      <th>200</th>\n",
              "      <td>100000.0</td>\n",
              "      <td>55.5</td>\n",
              "      <td>56.2</td>\n",
              "      <td>0.7</td>\n",
              "    </tr>\n",
              "  </tbody>\n",
              "</table>\n",
              "</div>"
            ],
            "text/plain": [
              "              Bin_Kapazitaet    LB    HC  Bins_beyond_LB\n",
              "Anzahl_Items                                            \n",
              "200                 100000.0  55.5  56.2             0.7"
            ]
          },
          "metadata": {
            "tags": []
          },
          "execution_count": 56
        }
      ]
    },
    {
      "cell_type": "code",
      "metadata": {
        "colab": {
          "base_uri": "https://localhost:8080/",
          "height": 107
        },
        "id": "_QpqJ5Zq8GuS",
        "outputId": "728938de-55f2-442e-bd87-ad3c2a7b2d05"
      },
      "source": [
        "url = 'https://raw.githubusercontent.com/LukasSchmauch/bin_packing_problem/main/01_Ergebnisse_final/Standardverfahren/results_zeitmessung_hard_StandardSEED123_150sec.csv'\n",
        "df = pd.read_csv(url)\n",
        "df_typ = df[df['Typ']=='hard']\n",
        "df_typ_sec = df_typ[df_typ['elapsed_time']<100.01]\n",
        "df_by_instance = df_typ_sec.groupby(['Instanzindex']).max()\n",
        "df_by_instance.groupby('Anzahl_Items').mean().drop(['Bins_beyond_LB','HC','Hit_LB'], axis = 1)"
      ],
      "execution_count": null,
      "outputs": [
        {
          "output_type": "execute_result",
          "data": {
            "text/html": [
              "<div>\n",
              "<style scoped>\n",
              "    .dataframe tbody tr th:only-of-type {\n",
              "        vertical-align: middle;\n",
              "    }\n",
              "\n",
              "    .dataframe tbody tr th {\n",
              "        vertical-align: top;\n",
              "    }\n",
              "\n",
              "    .dataframe thead th {\n",
              "        text-align: right;\n",
              "    }\n",
              "</style>\n",
              "<table border=\"1\" class=\"dataframe\">\n",
              "  <thead>\n",
              "    <tr style=\"text-align: right;\">\n",
              "      <th></th>\n",
              "      <th>Bin_Kapazitaet</th>\n",
              "      <th>LB</th>\n",
              "      <th>Iteration</th>\n",
              "      <th>elapsed_time</th>\n",
              "    </tr>\n",
              "    <tr>\n",
              "      <th>Anzahl_Items</th>\n",
              "      <th></th>\n",
              "      <th></th>\n",
              "      <th></th>\n",
              "      <th></th>\n",
              "    </tr>\n",
              "  </thead>\n",
              "  <tbody>\n",
              "    <tr>\n",
              "      <th>200</th>\n",
              "      <td>100000.0</td>\n",
              "      <td>55.5</td>\n",
              "      <td>2213.4</td>\n",
              "      <td>70.335039</td>\n",
              "    </tr>\n",
              "  </tbody>\n",
              "</table>\n",
              "</div>"
            ],
            "text/plain": [
              "              Bin_Kapazitaet    LB  Iteration  elapsed_time\n",
              "Anzahl_Items                                               \n",
              "200                 100000.0  55.5     2213.4     70.335039"
            ]
          },
          "metadata": {
            "tags": []
          },
          "execution_count": 63
        }
      ]
    },
    {
      "cell_type": "markdown",
      "metadata": {
        "id": "ODzFYMnQAzmD"
      },
      "source": [
        "#### Triplet 100 sec --> für 501er Ergebnis Zeit auf 200 setzen"
      ]
    },
    {
      "cell_type": "code",
      "metadata": {
        "colab": {
          "base_uri": "https://localhost:8080/",
          "height": 197
        },
        "id": "dxbwZTdnA3Sr",
        "outputId": "25cbc36a-b8b2-4568-af2f-2eda1edffb6c"
      },
      "source": [
        "url = 'https://raw.githubusercontent.com/LukasSchmauch/bin_packing_problem/main/01_Ergebnisse_final/Standardverfahren/results_zeitmessung_trip_StandardSEED123_200sec.csv'\n",
        "df = pd.read_csv(url)\n",
        "df_typ = df[df['Typ']=='triplet']\n",
        "df_typ_sec = df_typ[df_typ['elapsed_time']<100.01]\n",
        "df_by_instance = df_typ_sec.groupby(['Instanzindex']).min()\n",
        "df_by_instance.groupby('Anzahl_Items').mean().drop(['Iteration','Hit_LB','elapsed_time'],axis=1)"
      ],
      "execution_count": null,
      "outputs": [
        {
          "output_type": "execute_result",
          "data": {
            "text/html": [
              "<div>\n",
              "<style scoped>\n",
              "    .dataframe tbody tr th:only-of-type {\n",
              "        vertical-align: middle;\n",
              "    }\n",
              "\n",
              "    .dataframe tbody tr th {\n",
              "        vertical-align: top;\n",
              "    }\n",
              "\n",
              "    .dataframe thead th {\n",
              "        text-align: right;\n",
              "    }\n",
              "</style>\n",
              "<table border=\"1\" class=\"dataframe\">\n",
              "  <thead>\n",
              "    <tr style=\"text-align: right;\">\n",
              "      <th></th>\n",
              "      <th>Bin_Kapazitaet</th>\n",
              "      <th>LB</th>\n",
              "      <th>HC</th>\n",
              "      <th>Bins_beyond_LB</th>\n",
              "    </tr>\n",
              "    <tr>\n",
              "      <th>Anzahl_Items</th>\n",
              "      <th></th>\n",
              "      <th></th>\n",
              "      <th></th>\n",
              "      <th></th>\n",
              "    </tr>\n",
              "  </thead>\n",
              "  <tbody>\n",
              "    <tr>\n",
              "      <th>60</th>\n",
              "      <td>1000.0</td>\n",
              "      <td>20.0</td>\n",
              "      <td>21.0</td>\n",
              "      <td>1.0</td>\n",
              "    </tr>\n",
              "    <tr>\n",
              "      <th>120</th>\n",
              "      <td>1000.0</td>\n",
              "      <td>40.0</td>\n",
              "      <td>41.0</td>\n",
              "      <td>1.0</td>\n",
              "    </tr>\n",
              "    <tr>\n",
              "      <th>249</th>\n",
              "      <td>1000.0</td>\n",
              "      <td>83.0</td>\n",
              "      <td>84.0</td>\n",
              "      <td>1.0</td>\n",
              "    </tr>\n",
              "    <tr>\n",
              "      <th>501</th>\n",
              "      <td>1000.0</td>\n",
              "      <td>167.0</td>\n",
              "      <td>168.1</td>\n",
              "      <td>1.1</td>\n",
              "    </tr>\n",
              "  </tbody>\n",
              "</table>\n",
              "</div>"
            ],
            "text/plain": [
              "              Bin_Kapazitaet     LB     HC  Bins_beyond_LB\n",
              "Anzahl_Items                                              \n",
              "60                    1000.0   20.0   21.0             1.0\n",
              "120                   1000.0   40.0   41.0             1.0\n",
              "249                   1000.0   83.0   84.0             1.0\n",
              "501                   1000.0  167.0  168.1             1.1"
            ]
          },
          "metadata": {
            "tags": []
          },
          "execution_count": 61
        }
      ]
    },
    {
      "cell_type": "code",
      "metadata": {
        "colab": {
          "base_uri": "https://localhost:8080/",
          "height": 197
        },
        "id": "BsRPtbcn8Pz_",
        "outputId": "a6a540fc-c3ad-4f9b-a768-05fb0051acdc"
      },
      "source": [
        "url = 'https://raw.githubusercontent.com/LukasSchmauch/bin_packing_problem/main/01_Ergebnisse_final/Standardverfahren/results_zeitmessung_trip_StandardSEED123_200sec.csv'\n",
        "df = pd.read_csv(url)\n",
        "df_typ = df[df['Typ']=='triplet']\n",
        "df_typ_sec = df_typ[df_typ['elapsed_time']<100.01]\n",
        "df_by_instance = df_typ_sec.groupby(['Instanzindex']).max()\n",
        "df_by_instance.groupby('Anzahl_Items').mean().drop(['Bins_beyond_LB','HC','Hit_LB'], axis = 1)\n"
      ],
      "execution_count": null,
      "outputs": [
        {
          "output_type": "execute_result",
          "data": {
            "text/html": [
              "<div>\n",
              "<style scoped>\n",
              "    .dataframe tbody tr th:only-of-type {\n",
              "        vertical-align: middle;\n",
              "    }\n",
              "\n",
              "    .dataframe tbody tr th {\n",
              "        vertical-align: top;\n",
              "    }\n",
              "\n",
              "    .dataframe thead th {\n",
              "        text-align: right;\n",
              "    }\n",
              "</style>\n",
              "<table border=\"1\" class=\"dataframe\">\n",
              "  <thead>\n",
              "    <tr style=\"text-align: right;\">\n",
              "      <th></th>\n",
              "      <th>Bin_Kapazitaet</th>\n",
              "      <th>LB</th>\n",
              "      <th>Iteration</th>\n",
              "      <th>elapsed_time</th>\n",
              "    </tr>\n",
              "    <tr>\n",
              "      <th>Anzahl_Items</th>\n",
              "      <th></th>\n",
              "      <th></th>\n",
              "      <th></th>\n",
              "      <th></th>\n",
              "    </tr>\n",
              "  </thead>\n",
              "  <tbody>\n",
              "    <tr>\n",
              "      <th>60</th>\n",
              "      <td>1000.0</td>\n",
              "      <td>20.0</td>\n",
              "      <td>2443.95</td>\n",
              "      <td>99.976423</td>\n",
              "    </tr>\n",
              "    <tr>\n",
              "      <th>120</th>\n",
              "      <td>1000.0</td>\n",
              "      <td>40.0</td>\n",
              "      <td>1795.40</td>\n",
              "      <td>99.974851</td>\n",
              "    </tr>\n",
              "    <tr>\n",
              "      <th>249</th>\n",
              "      <td>1000.0</td>\n",
              "      <td>83.0</td>\n",
              "      <td>1581.30</td>\n",
              "      <td>99.971366</td>\n",
              "    </tr>\n",
              "    <tr>\n",
              "      <th>501</th>\n",
              "      <td>1000.0</td>\n",
              "      <td>167.0</td>\n",
              "      <td>919.15</td>\n",
              "      <td>99.944219</td>\n",
              "    </tr>\n",
              "  </tbody>\n",
              "</table>\n",
              "</div>"
            ],
            "text/plain": [
              "              Bin_Kapazitaet     LB  Iteration  elapsed_time\n",
              "Anzahl_Items                                                \n",
              "60                    1000.0   20.0    2443.95     99.976423\n",
              "120                   1000.0   40.0    1795.40     99.974851\n",
              "249                   1000.0   83.0    1581.30     99.971366\n",
              "501                   1000.0  167.0     919.15     99.944219"
            ]
          },
          "metadata": {
            "tags": []
          },
          "execution_count": 64
        }
      ]
    },
    {
      "cell_type": "markdown",
      "metadata": {
        "id": "K3IyyjOlPztX"
      },
      "source": [
        "### nur Largest First"
      ]
    },
    {
      "cell_type": "code",
      "metadata": {
        "colab": {
          "base_uri": "https://localhost:8080/",
          "height": 197
        },
        "id": "TktWKVNiPf2T",
        "outputId": "1268ddbf-5352-42f1-a17f-ea13cad468d1"
      },
      "source": [
        "url = 'https://raw.githubusercontent.com/LukasSchmauch/bin_packing_problem/main/01_Ergebnisse_final/Largest_First/results_zeitmessung_unif_LargestFirstSEED123_100sec.csv'\n",
        "df = pd.read_csv(url)\n",
        "df_typ = df[df['Typ']=='uniform']\n",
        "df_typ_sec = df_typ[df_typ['elapsed_time']<100.01]\n",
        "df_by_instance = df_typ_sec.groupby(['Instanzindex']).min()\n",
        "df_by_instance.groupby('Anzahl_Items').mean().drop(['Iteration','elapsed_time','Hit_LB'], axis = 1)\n"
      ],
      "execution_count": null,
      "outputs": [
        {
          "output_type": "execute_result",
          "data": {
            "text/html": [
              "<div>\n",
              "<style scoped>\n",
              "    .dataframe tbody tr th:only-of-type {\n",
              "        vertical-align: middle;\n",
              "    }\n",
              "\n",
              "    .dataframe tbody tr th {\n",
              "        vertical-align: top;\n",
              "    }\n",
              "\n",
              "    .dataframe thead th {\n",
              "        text-align: right;\n",
              "    }\n",
              "</style>\n",
              "<table border=\"1\" class=\"dataframe\">\n",
              "  <thead>\n",
              "    <tr style=\"text-align: right;\">\n",
              "      <th></th>\n",
              "      <th>Bin_Kapazitaet</th>\n",
              "      <th>LB</th>\n",
              "      <th>HC</th>\n",
              "      <th>Bins_beyond_LB</th>\n",
              "    </tr>\n",
              "    <tr>\n",
              "      <th>Anzahl_Items</th>\n",
              "      <th></th>\n",
              "      <th></th>\n",
              "      <th></th>\n",
              "      <th></th>\n",
              "    </tr>\n",
              "  </thead>\n",
              "  <tbody>\n",
              "    <tr>\n",
              "      <th>120</th>\n",
              "      <td>150.0</td>\n",
              "      <td>49.05</td>\n",
              "      <td>49.05</td>\n",
              "      <td>0.00</td>\n",
              "    </tr>\n",
              "    <tr>\n",
              "      <th>250</th>\n",
              "      <td>150.0</td>\n",
              "      <td>101.55</td>\n",
              "      <td>101.70</td>\n",
              "      <td>0.15</td>\n",
              "    </tr>\n",
              "    <tr>\n",
              "      <th>500</th>\n",
              "      <td>150.0</td>\n",
              "      <td>201.20</td>\n",
              "      <td>201.20</td>\n",
              "      <td>0.00</td>\n",
              "    </tr>\n",
              "    <tr>\n",
              "      <th>1000</th>\n",
              "      <td>150.0</td>\n",
              "      <td>400.55</td>\n",
              "      <td>400.65</td>\n",
              "      <td>0.10</td>\n",
              "    </tr>\n",
              "  </tbody>\n",
              "</table>\n",
              "</div>"
            ],
            "text/plain": [
              "              Bin_Kapazitaet      LB      HC  Bins_beyond_LB\n",
              "Anzahl_Items                                                \n",
              "120                    150.0   49.05   49.05            0.00\n",
              "250                    150.0  101.55  101.70            0.15\n",
              "500                    150.0  201.20  201.20            0.00\n",
              "1000                   150.0  400.55  400.65            0.10"
            ]
          },
          "metadata": {
            "tags": []
          },
          "execution_count": 18
        }
      ]
    },
    {
      "cell_type": "code",
      "metadata": {
        "colab": {
          "base_uri": "https://localhost:8080/",
          "height": 197
        },
        "id": "2O2WSt_nFXGk",
        "outputId": "f3b74017-9b60-48e6-fd69-016c736ad23d"
      },
      "source": [
        "url = 'https://raw.githubusercontent.com/LukasSchmauch/bin_packing_problem/main/01_Ergebnisse_final/Largest_First/results_zeitmessung_triplet_LargestFirstSEED123_100sec.csv'\n",
        "df = pd.read_csv(url)\n",
        "df_typ = df[df['Typ']=='triplet0']\n",
        "df_typ_sec = df_typ[df_typ['elapsed_time']<100.01]\n",
        "df_by_instance = df_typ_sec.groupby(['Instanzindex']).min()\n",
        "df_by_instance.groupby('Anzahl_Items').mean().drop(['Iteration','elapsed_time','Hit_LB'], axis = 1)\n"
      ],
      "execution_count": null,
      "outputs": [
        {
          "output_type": "execute_result",
          "data": {
            "text/html": [
              "<div>\n",
              "<style scoped>\n",
              "    .dataframe tbody tr th:only-of-type {\n",
              "        vertical-align: middle;\n",
              "    }\n",
              "\n",
              "    .dataframe tbody tr th {\n",
              "        vertical-align: top;\n",
              "    }\n",
              "\n",
              "    .dataframe thead th {\n",
              "        text-align: right;\n",
              "    }\n",
              "</style>\n",
              "<table border=\"1\" class=\"dataframe\">\n",
              "  <thead>\n",
              "    <tr style=\"text-align: right;\">\n",
              "      <th></th>\n",
              "      <th>Bin_Kapazitaet</th>\n",
              "      <th>LB</th>\n",
              "      <th>HC</th>\n",
              "      <th>Bins_beyond_LB</th>\n",
              "    </tr>\n",
              "    <tr>\n",
              "      <th>Anzahl_Items</th>\n",
              "      <th></th>\n",
              "      <th></th>\n",
              "      <th></th>\n",
              "      <th></th>\n",
              "    </tr>\n",
              "  </thead>\n",
              "  <tbody>\n",
              "    <tr>\n",
              "      <th>60</th>\n",
              "      <td>1000.0</td>\n",
              "      <td>20.0</td>\n",
              "      <td>20.75</td>\n",
              "      <td>0.75</td>\n",
              "    </tr>\n",
              "    <tr>\n",
              "      <th>120</th>\n",
              "      <td>1000.0</td>\n",
              "      <td>40.0</td>\n",
              "      <td>41.00</td>\n",
              "      <td>1.00</td>\n",
              "    </tr>\n",
              "    <tr>\n",
              "      <th>249</th>\n",
              "      <td>1000.0</td>\n",
              "      <td>83.0</td>\n",
              "      <td>84.00</td>\n",
              "      <td>1.00</td>\n",
              "    </tr>\n",
              "    <tr>\n",
              "      <th>501</th>\n",
              "      <td>1000.0</td>\n",
              "      <td>167.0</td>\n",
              "      <td>168.00</td>\n",
              "      <td>1.00</td>\n",
              "    </tr>\n",
              "  </tbody>\n",
              "</table>\n",
              "</div>"
            ],
            "text/plain": [
              "              Bin_Kapazitaet     LB      HC  Bins_beyond_LB\n",
              "Anzahl_Items                                               \n",
              "60                    1000.0   20.0   20.75            0.75\n",
              "120                   1000.0   40.0   41.00            1.00\n",
              "249                   1000.0   83.0   84.00            1.00\n",
              "501                   1000.0  167.0  168.00            1.00"
            ]
          },
          "metadata": {
            "tags": []
          },
          "execution_count": 27
        }
      ]
    },
    {
      "cell_type": "markdown",
      "metadata": {
        "id": "TdJL-yfTP6QB"
      },
      "source": [
        "### ohne 2:1 Move"
      ]
    },
    {
      "cell_type": "code",
      "metadata": {
        "colab": {
          "base_uri": "https://localhost:8080/",
          "height": 197
        },
        "id": "dfDEleheP8zX",
        "outputId": "7bac4e73-3532-4420-f917-7e70c8cf3a10"
      },
      "source": [
        "url = 'https://raw.githubusercontent.com/LukasSchmauch/bin_packing_problem/main/results_zeitmessung_unif_StandardOhne2%3A1SEED123_100sec.csv'\n",
        "df = pd.read_csv(url)\n",
        "df_typ = df[df['Typ']=='uniform']\n",
        "df_typ_sec = df_typ[df_typ['elapsed_time']<100.01]\n",
        "df_by_instance = df_typ_sec.groupby(['Instanzindex']).min()\n",
        "df_by_instance.groupby('Anzahl_Items').mean().drop(['Iteration','elapsed_time','Hit_LB'], axis = 1)"
      ],
      "execution_count": null,
      "outputs": [
        {
          "output_type": "execute_result",
          "data": {
            "text/html": [
              "<div>\n",
              "<style scoped>\n",
              "    .dataframe tbody tr th:only-of-type {\n",
              "        vertical-align: middle;\n",
              "    }\n",
              "\n",
              "    .dataframe tbody tr th {\n",
              "        vertical-align: top;\n",
              "    }\n",
              "\n",
              "    .dataframe thead th {\n",
              "        text-align: right;\n",
              "    }\n",
              "</style>\n",
              "<table border=\"1\" class=\"dataframe\">\n",
              "  <thead>\n",
              "    <tr style=\"text-align: right;\">\n",
              "      <th></th>\n",
              "      <th>Bin_Kapazitaet</th>\n",
              "      <th>LB</th>\n",
              "      <th>HC</th>\n",
              "      <th>Bins_beyond_LB</th>\n",
              "    </tr>\n",
              "    <tr>\n",
              "      <th>Anzahl_Items</th>\n",
              "      <th></th>\n",
              "      <th></th>\n",
              "      <th></th>\n",
              "      <th></th>\n",
              "    </tr>\n",
              "  </thead>\n",
              "  <tbody>\n",
              "    <tr>\n",
              "      <th>120</th>\n",
              "      <td>150.0</td>\n",
              "      <td>49.05</td>\n",
              "      <td>49.05</td>\n",
              "      <td>0.00</td>\n",
              "    </tr>\n",
              "    <tr>\n",
              "      <th>250</th>\n",
              "      <td>150.0</td>\n",
              "      <td>101.55</td>\n",
              "      <td>101.70</td>\n",
              "      <td>0.15</td>\n",
              "    </tr>\n",
              "    <tr>\n",
              "      <th>500</th>\n",
              "      <td>150.0</td>\n",
              "      <td>201.20</td>\n",
              "      <td>201.30</td>\n",
              "      <td>0.10</td>\n",
              "    </tr>\n",
              "    <tr>\n",
              "      <th>1000</th>\n",
              "      <td>150.0</td>\n",
              "      <td>400.55</td>\n",
              "      <td>400.75</td>\n",
              "      <td>0.20</td>\n",
              "    </tr>\n",
              "  </tbody>\n",
              "</table>\n",
              "</div>"
            ],
            "text/plain": [
              "              Bin_Kapazitaet      LB      HC  Bins_beyond_LB\n",
              "Anzahl_Items                                                \n",
              "120                    150.0   49.05   49.05            0.00\n",
              "250                    150.0  101.55  101.70            0.15\n",
              "500                    150.0  201.20  201.30            0.10\n",
              "1000                   150.0  400.55  400.75            0.20"
            ]
          },
          "metadata": {
            "tags": []
          },
          "execution_count": 17
        }
      ]
    },
    {
      "cell_type": "code",
      "metadata": {
        "colab": {
          "base_uri": "https://localhost:8080/",
          "height": 197
        },
        "id": "m1V_Q8dVGYq5",
        "outputId": "c154704a-98f4-44d6-b376-c93880729de3"
      },
      "source": [
        "url = 'https://raw.githubusercontent.com/LukasSchmauch/bin_packing_problem/main/01_Ergebnisse_final/Move/results_zeitmessung_trip_StandardOhne2%3A1SEED123_100sec.csv'\n",
        "df = pd.read_csv(url)\n",
        "df_typ = df[df['Typ']=='triplet']\n",
        "df_typ_sec = df_typ[df_typ['elapsed_time']<100.01]\n",
        "df_by_instance = df_typ_sec.groupby(['Instanzindex']).min()\n",
        "df_by_instance.groupby('Anzahl_Items').mean().drop(['Iteration','elapsed_time','Hit_LB'], axis = 1)"
      ],
      "execution_count": null,
      "outputs": [
        {
          "output_type": "execute_result",
          "data": {
            "text/html": [
              "<div>\n",
              "<style scoped>\n",
              "    .dataframe tbody tr th:only-of-type {\n",
              "        vertical-align: middle;\n",
              "    }\n",
              "\n",
              "    .dataframe tbody tr th {\n",
              "        vertical-align: top;\n",
              "    }\n",
              "\n",
              "    .dataframe thead th {\n",
              "        text-align: right;\n",
              "    }\n",
              "</style>\n",
              "<table border=\"1\" class=\"dataframe\">\n",
              "  <thead>\n",
              "    <tr style=\"text-align: right;\">\n",
              "      <th></th>\n",
              "      <th>Bin_Kapazitaet</th>\n",
              "      <th>LB</th>\n",
              "      <th>HC</th>\n",
              "      <th>Bins_beyond_LB</th>\n",
              "    </tr>\n",
              "    <tr>\n",
              "      <th>Anzahl_Items</th>\n",
              "      <th></th>\n",
              "      <th></th>\n",
              "      <th></th>\n",
              "      <th></th>\n",
              "    </tr>\n",
              "  </thead>\n",
              "  <tbody>\n",
              "    <tr>\n",
              "      <th>60</th>\n",
              "      <td>1000.0</td>\n",
              "      <td>20.0</td>\n",
              "      <td>20.7</td>\n",
              "      <td>0.7</td>\n",
              "    </tr>\n",
              "    <tr>\n",
              "      <th>120</th>\n",
              "      <td>1000.0</td>\n",
              "      <td>40.0</td>\n",
              "      <td>41.0</td>\n",
              "      <td>1.0</td>\n",
              "    </tr>\n",
              "    <tr>\n",
              "      <th>249</th>\n",
              "      <td>1000.0</td>\n",
              "      <td>83.0</td>\n",
              "      <td>84.0</td>\n",
              "      <td>1.0</td>\n",
              "    </tr>\n",
              "    <tr>\n",
              "      <th>501</th>\n",
              "      <td>1000.0</td>\n",
              "      <td>167.0</td>\n",
              "      <td>168.0</td>\n",
              "      <td>1.0</td>\n",
              "    </tr>\n",
              "  </tbody>\n",
              "</table>\n",
              "</div>"
            ],
            "text/plain": [
              "              Bin_Kapazitaet     LB     HC  Bins_beyond_LB\n",
              "Anzahl_Items                                              \n",
              "60                    1000.0   20.0   20.7             0.7\n",
              "120                   1000.0   40.0   41.0             1.0\n",
              "249                   1000.0   83.0   84.0             1.0\n",
              "501                   1000.0  167.0  168.0             1.0"
            ]
          },
          "metadata": {
            "tags": []
          },
          "execution_count": 28
        }
      ]
    },
    {
      "cell_type": "markdown",
      "metadata": {
        "id": "4xENjZHmGxh8"
      },
      "source": [
        "### Durchschnittliche Itemgröße (Shuffle)"
      ]
    },
    {
      "cell_type": "code",
      "metadata": {
        "colab": {
          "base_uri": "https://localhost:8080/",
          "height": 197
        },
        "id": "zy9v4ZM1HCio",
        "outputId": "6db8e246-8fad-4ae4-b909-7aba05f02688"
      },
      "source": [
        "url = 'https://raw.githubusercontent.com/LukasSchmauch/bin_packing_problem/main/01_Ergebnisse_final/Average_Shuffle/results_zeitmessung_u_singleaverageseed_100sec.csv'\n",
        "df = pd.read_csv(url)\n",
        "df_typ = df[df['Typ']=='uniform']\n",
        "df_typ_sec = df_typ[df_typ['elapsed_time']<100.01]\n",
        "df_by_instance = df_typ_sec.groupby(['Instanzindex']).min()\n",
        "df_by_instance.groupby('Anzahl_Items').mean().drop(['Iteration','elapsed_time','Hit_LB'], axis = 1)"
      ],
      "execution_count": null,
      "outputs": [
        {
          "output_type": "execute_result",
          "data": {
            "text/html": [
              "<div>\n",
              "<style scoped>\n",
              "    .dataframe tbody tr th:only-of-type {\n",
              "        vertical-align: middle;\n",
              "    }\n",
              "\n",
              "    .dataframe tbody tr th {\n",
              "        vertical-align: top;\n",
              "    }\n",
              "\n",
              "    .dataframe thead th {\n",
              "        text-align: right;\n",
              "    }\n",
              "</style>\n",
              "<table border=\"1\" class=\"dataframe\">\n",
              "  <thead>\n",
              "    <tr style=\"text-align: right;\">\n",
              "      <th></th>\n",
              "      <th>Bin_Kapazitaet</th>\n",
              "      <th>LB</th>\n",
              "      <th>HC</th>\n",
              "      <th>Bins_beyond_LB</th>\n",
              "    </tr>\n",
              "    <tr>\n",
              "      <th>Anzahl_Items</th>\n",
              "      <th></th>\n",
              "      <th></th>\n",
              "      <th></th>\n",
              "      <th></th>\n",
              "    </tr>\n",
              "  </thead>\n",
              "  <tbody>\n",
              "    <tr>\n",
              "      <th>120</th>\n",
              "      <td>150.0</td>\n",
              "      <td>49.05</td>\n",
              "      <td>49.05</td>\n",
              "      <td>0.00</td>\n",
              "    </tr>\n",
              "    <tr>\n",
              "      <th>250</th>\n",
              "      <td>150.0</td>\n",
              "      <td>101.55</td>\n",
              "      <td>101.65</td>\n",
              "      <td>0.10</td>\n",
              "    </tr>\n",
              "    <tr>\n",
              "      <th>500</th>\n",
              "      <td>150.0</td>\n",
              "      <td>201.20</td>\n",
              "      <td>201.20</td>\n",
              "      <td>0.00</td>\n",
              "    </tr>\n",
              "    <tr>\n",
              "      <th>1000</th>\n",
              "      <td>150.0</td>\n",
              "      <td>400.55</td>\n",
              "      <td>400.70</td>\n",
              "      <td>0.15</td>\n",
              "    </tr>\n",
              "  </tbody>\n",
              "</table>\n",
              "</div>"
            ],
            "text/plain": [
              "              Bin_Kapazitaet      LB      HC  Bins_beyond_LB\n",
              "Anzahl_Items                                                \n",
              "120                    150.0   49.05   49.05            0.00\n",
              "250                    150.0  101.55  101.65            0.10\n",
              "500                    150.0  201.20  201.20            0.00\n",
              "1000                   150.0  400.55  400.70            0.15"
            ]
          },
          "metadata": {
            "tags": []
          },
          "execution_count": 29
        }
      ]
    },
    {
      "cell_type": "code",
      "metadata": {
        "colab": {
          "base_uri": "https://localhost:8080/",
          "height": 197
        },
        "id": "C4HFkFGUIB7F",
        "outputId": "0551f536-e9f5-45aa-a81a-8655560ae34e"
      },
      "source": [
        "url = 'https://raw.githubusercontent.com/LukasSchmauch/bin_packing_problem/main/01_Ergebnisse_final/Average_Shuffle/results_zeitmessung_t_shuffleAverage_100sec.csv'\n",
        "df = pd.read_csv(url)\n",
        "df_typ = df[df['Typ']=='triplet']\n",
        "df_typ_sec = df_typ[df_typ['elapsed_time']<100.01]\n",
        "df_by_instance = df_typ_sec.groupby(['Instanzindex']).min()\n",
        "df_by_instance.groupby('Anzahl_Items').mean().drop(['Iteration','elapsed_time','Hit_LB'], axis = 1)"
      ],
      "execution_count": null,
      "outputs": [
        {
          "output_type": "execute_result",
          "data": {
            "text/html": [
              "<div>\n",
              "<style scoped>\n",
              "    .dataframe tbody tr th:only-of-type {\n",
              "        vertical-align: middle;\n",
              "    }\n",
              "\n",
              "    .dataframe tbody tr th {\n",
              "        vertical-align: top;\n",
              "    }\n",
              "\n",
              "    .dataframe thead th {\n",
              "        text-align: right;\n",
              "    }\n",
              "</style>\n",
              "<table border=\"1\" class=\"dataframe\">\n",
              "  <thead>\n",
              "    <tr style=\"text-align: right;\">\n",
              "      <th></th>\n",
              "      <th>Bin_Kapazitaet</th>\n",
              "      <th>LB</th>\n",
              "      <th>HC</th>\n",
              "      <th>Bins_beyond_LB</th>\n",
              "    </tr>\n",
              "    <tr>\n",
              "      <th>Anzahl_Items</th>\n",
              "      <th></th>\n",
              "      <th></th>\n",
              "      <th></th>\n",
              "      <th></th>\n",
              "    </tr>\n",
              "  </thead>\n",
              "  <tbody>\n",
              "    <tr>\n",
              "      <th>60</th>\n",
              "      <td>1000.0</td>\n",
              "      <td>20.0</td>\n",
              "      <td>20.7</td>\n",
              "      <td>0.7</td>\n",
              "    </tr>\n",
              "    <tr>\n",
              "      <th>120</th>\n",
              "      <td>1000.0</td>\n",
              "      <td>40.0</td>\n",
              "      <td>41.0</td>\n",
              "      <td>1.0</td>\n",
              "    </tr>\n",
              "    <tr>\n",
              "      <th>249</th>\n",
              "      <td>1000.0</td>\n",
              "      <td>83.0</td>\n",
              "      <td>84.0</td>\n",
              "      <td>1.0</td>\n",
              "    </tr>\n",
              "    <tr>\n",
              "      <th>501</th>\n",
              "      <td>1000.0</td>\n",
              "      <td>167.0</td>\n",
              "      <td>168.0</td>\n",
              "      <td>1.0</td>\n",
              "    </tr>\n",
              "  </tbody>\n",
              "</table>\n",
              "</div>"
            ],
            "text/plain": [
              "              Bin_Kapazitaet     LB     HC  Bins_beyond_LB\n",
              "Anzahl_Items                                              \n",
              "60                    1000.0   20.0   20.7             0.7\n",
              "120                   1000.0   40.0   41.0             1.0\n",
              "249                   1000.0   83.0   84.0             1.0\n",
              "501                   1000.0  167.0  168.0             1.0"
            ]
          },
          "metadata": {
            "tags": []
          },
          "execution_count": 32
        }
      ]
    },
    {
      "cell_type": "markdown",
      "metadata": {
        "id": "fUfsn0tEG8nx"
      },
      "source": [
        "### Durchschnittliche Itemgröße (Shuffle 5:5:5:3)"
      ]
    },
    {
      "cell_type": "code",
      "metadata": {
        "colab": {
          "base_uri": "https://localhost:8080/",
          "height": 197
        },
        "id": "C-KMtNvAHDkV",
        "outputId": "74d25f63-b06d-4f64-c619-e18d7e62be0d"
      },
      "source": [
        "url = 'https://raw.githubusercontent.com/LukasSchmauch/bin_packing_problem/main/01_Ergebnisse_final/Average_Shuffle/results_zeitmessung_unif_AVGINSHUFFLESEED123_100sec.csv'\n",
        "df = pd.read_csv(url)\n",
        "df_typ = df[df['Typ']=='uniform']\n",
        "df_typ_sec = df_typ[df_typ['elapsed_time']<100.01]\n",
        "df_by_instance = df_typ_sec.groupby(['Instanzindex']).min()\n",
        "df_by_instance.groupby('Anzahl_Items').mean().drop(['Iteration','elapsed_time','Hit_LB'], axis = 1)"
      ],
      "execution_count": null,
      "outputs": [
        {
          "output_type": "execute_result",
          "data": {
            "text/html": [
              "<div>\n",
              "<style scoped>\n",
              "    .dataframe tbody tr th:only-of-type {\n",
              "        vertical-align: middle;\n",
              "    }\n",
              "\n",
              "    .dataframe tbody tr th {\n",
              "        vertical-align: top;\n",
              "    }\n",
              "\n",
              "    .dataframe thead th {\n",
              "        text-align: right;\n",
              "    }\n",
              "</style>\n",
              "<table border=\"1\" class=\"dataframe\">\n",
              "  <thead>\n",
              "    <tr style=\"text-align: right;\">\n",
              "      <th></th>\n",
              "      <th>Bin_Kapazitaet</th>\n",
              "      <th>LB</th>\n",
              "      <th>HC</th>\n",
              "      <th>Bins_beyond_LB</th>\n",
              "    </tr>\n",
              "    <tr>\n",
              "      <th>Anzahl_Items</th>\n",
              "      <th></th>\n",
              "      <th></th>\n",
              "      <th></th>\n",
              "      <th></th>\n",
              "    </tr>\n",
              "  </thead>\n",
              "  <tbody>\n",
              "    <tr>\n",
              "      <th>120</th>\n",
              "      <td>150.0</td>\n",
              "      <td>49.05</td>\n",
              "      <td>49.05</td>\n",
              "      <td>0.00</td>\n",
              "    </tr>\n",
              "    <tr>\n",
              "      <th>250</th>\n",
              "      <td>150.0</td>\n",
              "      <td>101.55</td>\n",
              "      <td>101.80</td>\n",
              "      <td>0.25</td>\n",
              "    </tr>\n",
              "    <tr>\n",
              "      <th>500</th>\n",
              "      <td>150.0</td>\n",
              "      <td>201.20</td>\n",
              "      <td>201.35</td>\n",
              "      <td>0.15</td>\n",
              "    </tr>\n",
              "    <tr>\n",
              "      <th>1000</th>\n",
              "      <td>150.0</td>\n",
              "      <td>400.55</td>\n",
              "      <td>400.75</td>\n",
              "      <td>0.20</td>\n",
              "    </tr>\n",
              "  </tbody>\n",
              "</table>\n",
              "</div>"
            ],
            "text/plain": [
              "              Bin_Kapazitaet      LB      HC  Bins_beyond_LB\n",
              "Anzahl_Items                                                \n",
              "120                    150.0   49.05   49.05            0.00\n",
              "250                    150.0  101.55  101.80            0.25\n",
              "500                    150.0  201.20  201.35            0.15\n",
              "1000                   150.0  400.55  400.75            0.20"
            ]
          },
          "metadata": {
            "tags": []
          },
          "execution_count": 30
        }
      ]
    },
    {
      "cell_type": "code",
      "metadata": {
        "colab": {
          "base_uri": "https://localhost:8080/",
          "height": 197
        },
        "id": "OkON02mMHuji",
        "outputId": "38cf7608-32e0-4f14-bf78-e6ce11f2799f"
      },
      "source": [
        "url = 'https://raw.githubusercontent.com/LukasSchmauch/bin_packing_problem/main/01_Ergebnisse_final/Average_Shuffle/results_zeitmessung_triplet_avginshuffleseed_250sec.csv'\n",
        "df = pd.read_csv(url)\n",
        "df_typ = df[df['Typ']=='triplet']\n",
        "df_typ_sec = df_typ[df_typ['elapsed_time']<100.01]\n",
        "df_by_instance = df_typ_sec.groupby(['Instanzindex']).min()\n",
        "df_by_instance.groupby('Anzahl_Items').mean().drop(['Iteration','elapsed_time','Hit_LB'], axis = 1)"
      ],
      "execution_count": null,
      "outputs": [
        {
          "output_type": "execute_result",
          "data": {
            "text/html": [
              "<div>\n",
              "<style scoped>\n",
              "    .dataframe tbody tr th:only-of-type {\n",
              "        vertical-align: middle;\n",
              "    }\n",
              "\n",
              "    .dataframe tbody tr th {\n",
              "        vertical-align: top;\n",
              "    }\n",
              "\n",
              "    .dataframe thead th {\n",
              "        text-align: right;\n",
              "    }\n",
              "</style>\n",
              "<table border=\"1\" class=\"dataframe\">\n",
              "  <thead>\n",
              "    <tr style=\"text-align: right;\">\n",
              "      <th></th>\n",
              "      <th>Bin_Kapazitaet</th>\n",
              "      <th>LB</th>\n",
              "      <th>HC</th>\n",
              "      <th>Bins_beyond_LB</th>\n",
              "    </tr>\n",
              "    <tr>\n",
              "      <th>Anzahl_Items</th>\n",
              "      <th></th>\n",
              "      <th></th>\n",
              "      <th></th>\n",
              "      <th></th>\n",
              "    </tr>\n",
              "  </thead>\n",
              "  <tbody>\n",
              "    <tr>\n",
              "      <th>60</th>\n",
              "      <td>1000.0</td>\n",
              "      <td>20.0</td>\n",
              "      <td>21.0</td>\n",
              "      <td>1.0</td>\n",
              "    </tr>\n",
              "    <tr>\n",
              "      <th>120</th>\n",
              "      <td>1000.0</td>\n",
              "      <td>40.0</td>\n",
              "      <td>41.0</td>\n",
              "      <td>1.0</td>\n",
              "    </tr>\n",
              "    <tr>\n",
              "      <th>249</th>\n",
              "      <td>1000.0</td>\n",
              "      <td>83.0</td>\n",
              "      <td>84.0</td>\n",
              "      <td>1.0</td>\n",
              "    </tr>\n",
              "    <tr>\n",
              "      <th>501</th>\n",
              "      <td>1000.0</td>\n",
              "      <td>167.0</td>\n",
              "      <td>168.1</td>\n",
              "      <td>1.1</td>\n",
              "    </tr>\n",
              "  </tbody>\n",
              "</table>\n",
              "</div>"
            ],
            "text/plain": [
              "              Bin_Kapazitaet     LB     HC  Bins_beyond_LB\n",
              "Anzahl_Items                                              \n",
              "60                    1000.0   20.0   21.0             1.0\n",
              "120                   1000.0   40.0   41.0             1.0\n",
              "249                   1000.0   83.0   84.0             1.0\n",
              "501                   1000.0  167.0  168.1             1.1"
            ]
          },
          "metadata": {
            "tags": []
          },
          "execution_count": 31
        }
      ]
    },
    {
      "cell_type": "markdown",
      "metadata": {
        "id": "LkSyKNrDRQz6"
      },
      "source": [
        "# Optimalitätsanalyse"
      ]
    },
    {
      "cell_type": "markdown",
      "metadata": {
        "id": "peDJyxLbRYEW"
      },
      "source": [
        "## Uniform und Hard"
      ]
    },
    {
      "cell_type": "code",
      "metadata": {
        "colab": {
          "base_uri": "https://localhost:8080/",
          "height": 548
        },
        "id": "u6Q-eSIFRo85",
        "outputId": "2db4734c-5f98-46d6-bd1a-de4faad4b5e9"
      },
      "source": [
        "url = 'https://raw.githubusercontent.com/LukasSchmauch/bin_packing_problem/main/01_Ergebnisse_final/Standardverfahren/results_zeitmessung_u_seed_100sec.csv'\n",
        "df_unif = pd.read_csv(url)\n",
        "url = 'https://raw.githubusercontent.com/LukasSchmauch/bin_packing_problem/main/01_Ergebnisse_final/Standardverfahren/results_zeitmessung_hard_StandardSEED123_150sec.csv'\n",
        "df_hard = pd.read_csv(url)\n",
        "fig = plt.figure(figsize=(12,8))\n",
        "ax = fig.add_subplot(111)\n",
        "timesteps = [1.01,20.01,100.01]\n",
        "N = len(get_num_lb(df_unif, 'uniform', timesteps[0]))+1\n",
        "ind = np.arange(N)  # the x locations for the groups\n",
        "width = 0.27       # the width of the bars\n",
        "yvals = get_num_lb(df_unif, 'uniform', timesteps[0])\n",
        "yvals = np.append(yvals, get_num_lb(df_hard,'hard',timesteps[0]))\n",
        "rects1 = ax.bar(ind, yvals, width, color='darkblue')\n",
        "zvals = get_num_lb(df_unif, 'uniform', timesteps[1])\n",
        "zvals = np.append(zvals, get_num_lb(df_hard,'hard',timesteps[1]))\n",
        "rects2 = ax.bar(ind+width, zvals, width, color='blue')\n",
        "kvals = get_num_lb(df_unif, 'uniform', timesteps[2])\n",
        "kvals = np.append(kvals, get_num_lb(df_hard,'hard',timesteps[2]))\n",
        "rects3 = ax.bar(ind+width*2, kvals, width, color='lightblue')\n",
        "ax.set_ylabel('Scores')\n",
        "ax.set_xticks(ind+width)\n",
        "ax.set_xticklabels(('(U,120,150)', '(U,250,150)', '(U,500,150)','(U,1000,150)','(H,200,100000)'))\n",
        "ax.hlines(20,-0.2,3.7, label='# Instanzen', color='darkred')\n",
        "#ax.hlines(10,3.7,5, label='# Instanzen', color='darkred')\n",
        "ax.legend( (rects1[0], rects2[0], rects3[0]), ('1 sec', '20 sec', '100 sec'), prop={'size': 15})\n",
        "plt.title('Anzahl getroffener LBs (bei vorgegebener Rechenzeit)', fontsize=20)\n",
        "plt.xticks(fontsize=15)\n",
        "plt.yticks(np.arange(0,21,1),fontsize=15)\n",
        "plt.xlabel('Instanzgruppen', fontsize=20)\n",
        "plt.ylabel('Anzahl getroffener LBs', fontsize=20)\n"
      ],
      "execution_count": null,
      "outputs": [
        {
          "output_type": "execute_result",
          "data": {
            "text/plain": [
              "Text(0, 0.5, 'Anzahl getroffener LBs')"
            ]
          },
          "metadata": {
            "tags": []
          },
          "execution_count": 4
        },
        {
          "output_type": "display_data",
          "data": {
            "image/png": "[encoded data removed]",
            "text/plain": [
              "<Figure size 864x576 with 1 Axes>"
            ]
          },
          "metadata": {
            "tags": [],
            "needs_background": "light"
          }
        }
      ]
    },
    {
      "cell_type": "markdown",
      "metadata": {
        "id": "6Hz-Ckmdz1F9"
      },
      "source": [
        "# Worst Case Analyse"
      ]
    },
    {
      "cell_type": "markdown",
      "metadata": {
        "id": "xwl142dAz7bP"
      },
      "source": [
        "## Uniform und Hard"
      ]
    },
    {
      "cell_type": "code",
      "metadata": {
        "colab": {
          "base_uri": "https://localhost:8080/",
          "height": 197
        },
        "id": "OMIUR-mj4q_Y",
        "outputId": "ae2fe4b2-f288-4b35-a1fd-448f3548129a"
      },
      "source": [
        "url = 'https://raw.githubusercontent.com/LukasSchmauch/bin_packing_problem/main/01_Ergebnisse_final/Standardverfahren/results_zeitmessung_u_seed_100sec.csv'\n",
        "df_typ = pd.read_csv(url)\n",
        "df_typ_sec = df_typ[df_typ['elapsed_time']<1.01]\n",
        "df_by_instance = df_typ_sec.groupby(['Instanzindex']).max()\n",
        "df_by_instance.groupby('Anzahl_Items').max().drop(['Hit_LB','HC'],axis = 1)"
      ],
      "execution_count": null,
      "outputs": [
        {
          "output_type": "execute_result",
          "data": {
            "text/html": [
              "<div>\n",
              "<style scoped>\n",
              "    .dataframe tbody tr th:only-of-type {\n",
              "        vertical-align: middle;\n",
              "    }\n",
              "\n",
              "    .dataframe tbody tr th {\n",
              "        vertical-align: top;\n",
              "    }\n",
              "\n",
              "    .dataframe thead th {\n",
              "        text-align: right;\n",
              "    }\n",
              "</style>\n",
              "<table border=\"1\" class=\"dataframe\">\n",
              "  <thead>\n",
              "    <tr style=\"text-align: right;\">\n",
              "      <th></th>\n",
              "      <th>Typ</th>\n",
              "      <th>Bin_Kapazitaet</th>\n",
              "      <th>LB</th>\n",
              "      <th>Bins_beyond_LB</th>\n",
              "      <th>Iteration</th>\n",
              "      <th>elapsed_time</th>\n",
              "    </tr>\n",
              "    <tr>\n",
              "      <th>Anzahl_Items</th>\n",
              "      <th></th>\n",
              "      <th></th>\n",
              "      <th></th>\n",
              "      <th></th>\n",
              "      <th></th>\n",
              "      <th></th>\n",
              "    </tr>\n",
              "  </thead>\n",
              "  <tbody>\n",
              "    <tr>\n",
              "      <th>120</th>\n",
              "      <td>uniform</td>\n",
              "      <td>150</td>\n",
              "      <td>52</td>\n",
              "      <td>1</td>\n",
              "      <td>60</td>\n",
              "      <td>1.008978</td>\n",
              "    </tr>\n",
              "    <tr>\n",
              "      <th>250</th>\n",
              "      <td>uniform</td>\n",
              "      <td>150</td>\n",
              "      <td>105</td>\n",
              "      <td>2</td>\n",
              "      <td>37</td>\n",
              "      <td>1.005700</td>\n",
              "    </tr>\n",
              "    <tr>\n",
              "      <th>500</th>\n",
              "      <td>uniform</td>\n",
              "      <td>150</td>\n",
              "      <td>207</td>\n",
              "      <td>3</td>\n",
              "      <td>18</td>\n",
              "      <td>1.009837</td>\n",
              "    </tr>\n",
              "    <tr>\n",
              "      <th>1000</th>\n",
              "      <td>uniform</td>\n",
              "      <td>150</td>\n",
              "      <td>411</td>\n",
              "      <td>6</td>\n",
              "      <td>3</td>\n",
              "      <td>0.988759</td>\n",
              "    </tr>\n",
              "  </tbody>\n",
              "</table>\n",
              "</div>"
            ],
            "text/plain": [
              "                  Typ  Bin_Kapazitaet  ...  Iteration  elapsed_time\n",
              "Anzahl_Items                           ...                         \n",
              "120           uniform             150  ...         60      1.008978\n",
              "250           uniform             150  ...         37      1.005700\n",
              "500           uniform             150  ...         18      1.009837\n",
              "1000          uniform             150  ...          3      0.988759\n",
              "\n",
              "[4 rows x 6 columns]"
            ]
          },
          "metadata": {
            "tags": []
          },
          "execution_count": 22
        }
      ]
    },
    {
      "cell_type": "code",
      "metadata": {
        "colab": {
          "base_uri": "https://localhost:8080/",
          "height": 548
        },
        "id": "_FUHtmoR0K1W",
        "outputId": "475e236a-8ab6-4e53-b523-8cf77e44e2c3"
      },
      "source": [
        "url = 'https://raw.githubusercontent.com/LukasSchmauch/bin_packing_problem/main/01_Ergebnisse_final/Standardverfahren/results_zeitmessung_u_seed_100sec.csv'\n",
        "df_unif = pd.read_csv(url)\n",
        "url = 'https://raw.githubusercontent.com/LukasSchmauch/bin_packing_problem/main/01_Ergebnisse_final/Standardverfahren/results_zeitmessung_hard_StandardSEED123_150sec.csv'\n",
        "df_hard = pd.read_csv(url)\n",
        "fig = plt.figure(figsize=(12,8))\n",
        "ax = fig.add_subplot(111)\n",
        "timesteps = [1.01,20.01,100.01]\n",
        "N = len(get_wc_deviation(df_unif, 'uniform', timesteps[0]))+1\n",
        "ind = np.arange(N)  # the x locations for the groups\n",
        "width = 0.27       # the width of the bars\n",
        "yvals = get_wc_deviation(df_unif, 'uniform', timesteps[0])\n",
        "yvals = np.append(yvals, get_wc_deviation(df_hard,'hard',timesteps[0]))\n",
        "rects1 = ax.bar(ind, yvals, width, color='darkred')\n",
        "zvals = get_wc_deviation(df_unif, 'uniform', timesteps[1])\n",
        "zvals = np.append(zvals, get_wc_deviation(df_hard,'hard',timesteps[1]))\n",
        "rects2 = ax.bar(ind+width, zvals, width, color='red')\n",
        "kvals = get_wc_deviation(df_unif, 'uniform', timesteps[2])\n",
        "kvals = np.append(kvals, get_wc_deviation(df_hard,'hard',timesteps[2]))\n",
        "rects3 = ax.bar(ind+width*2, kvals, width, color='lightcoral')\n",
        "ax.set_ylabel('Scores')\n",
        "ax.set_xticks(ind+width)\n",
        "ax.set_xticklabels(('(U,120,150)', '(U,250,150)', '(U,500,150)','(U,1000,150)','(H,200,100000)'))\n",
        "#ax.hlines(20,-0.2,3.7, label='# Instanzen', color='darkred')\n",
        "#ax.hlines(10,3.7,5, label='# Instanzen', color='darkred')\n",
        "ax.legend( (rects1[0], rects2[0], rects3[0]), ('1 sec', '20 sec', '100 sec'), prop={'size': 15})\n",
        "plt.title('Worst Case Abweichung von LB (bei vorgegebener Rechenzeit)', fontsize=20)\n",
        "plt.xticks(fontsize=15)\n",
        "plt.yticks(fontsize=15)\n",
        "plt.xlabel('Instanzgruppen', fontsize=20)\n",
        "plt.ylabel('Worst Case Abweichung von LB', fontsize=20)\n"
      ],
      "execution_count": null,
      "outputs": [
        {
          "output_type": "execute_result",
          "data": {
            "text/plain": [
              "Text(0, 0.5, 'Worst Case Abweichung von LB')"
            ]
          },
          "metadata": {
            "tags": []
          },
          "execution_count": 6
        },
        {
          "output_type": "display_data",
          "data": {
            "image/png": "[encoded data removed]",
            "text/plain": [
              "<Figure size 864x576 with 1 Axes>"
            ]
          },
          "metadata": {
            "tags": [],
            "needs_background": "light"
          }
        }
      ]
    },
    {
      "cell_type": "markdown",
      "metadata": {
        "id": "MptBxy07z9Eh"
      },
      "source": [
        "## Triplet"
      ]
    },
    {
      "cell_type": "code",
      "metadata": {
        "colab": {
          "base_uri": "https://localhost:8080/",
          "height": 548
        },
        "id": "BYJhmK1dAecO",
        "outputId": "86e7b7f9-93f9-4fd6-de36-b605ab7174f9"
      },
      "source": [
        "url = 'https://raw.githubusercontent.com/LukasSchmauch/bin_packing_problem/main/01_Ergebnisse_final/Standardverfahren/results_zeitmessung_trip_StandardSEED123_200sec.csv'\n",
        "df = pd.read_csv(url)\n",
        "\n",
        "\n",
        "timesteps = [1.01,10.01,100.01]\n",
        "fig = plt.figure(figsize=(12,8))\n",
        "ax = fig.add_subplot(111)\n",
        "N = len(get_wc_deviation(df, 'triplet', timesteps[0]))\n",
        "ind = np.arange(N)  # the x locations for the groups\n",
        "width = 0.27       # the width of the bars\n",
        "\n",
        "yvals = get_wc_deviation(df, 'triplet', timesteps[0])\n",
        "rects1 = ax.bar(ind, yvals, width, color='darkred')\n",
        "zvals = get_wc_deviation(df, 'triplet', timesteps[1])\n",
        "rects2 = ax.bar(ind+width, zvals, width, color='red')\n",
        "kvals = get_wc_deviation(df, 'triplet', timesteps[2])\n",
        "rects3 = ax.bar(ind+width*2, kvals, width, color='lightcoral')\n",
        "\n",
        "ax.set_ylabel('Scores')\n",
        "ax.set_xticks(ind+width)\n",
        "ax.set_xticklabels(('(T,60,1000)', '(T,120,1000)', '(T,249,1000)','(T,501,1000)'))\n",
        "ax.legend((rects1[0], rects2[0], rects3[0]), ('1 sec', '10 sec', '100 sec'), prop={'size': 15})\n",
        "plt.title('Worst Case Abweichung von LB (bei vorgegebener Rechenzeit)', fontsize=20)\n",
        "plt.xticks(fontsize=15)\n",
        "plt.yticks(np.arange(0,25,2),fontsize=15)\n",
        "plt.xlabel('Instanzgruppen', fontsize=20)\n",
        "plt.ylabel('Worst Case Abweichung von LB', fontsize=20)\n"
      ],
      "execution_count": null,
      "outputs": [
        {
          "output_type": "execute_result",
          "data": {
            "text/plain": [
              "Text(0, 0.5, 'Worst Case Abweichung von LB')"
            ]
          },
          "metadata": {
            "tags": []
          },
          "execution_count": 7
        },
        {
          "output_type": "display_data",
          "data": {
            "image/png": "[encoded data removed]",
            "text/plain": [
              "<Figure size 864x576 with 1 Axes>"
            ]
          },
          "metadata": {
            "tags": [],
            "needs_background": "light"
          }
        }
      ]
    },
    {
      "cell_type": "markdown",
      "metadata": {
        "id": "oAA-Ea9bHTwO"
      },
      "source": [
        "# Zusammenhang Lösungsgüte und Rechenzeit"
      ]
    },
    {
      "cell_type": "markdown",
      "metadata": {
        "id": "SkgAjak_XJ2A"
      },
      "source": [
        "### Uniform und Hard"
      ]
    },
    {
      "cell_type": "code",
      "metadata": {
        "id": "ccuC9RHgHY72",
        "colab": {
          "base_uri": "https://localhost:8080/",
          "height": 548
        },
        "outputId": "04cbb71c-f6ae-4094-a4dd-7f92c3b5a147"
      },
      "source": [
        "url = 'https://raw.githubusercontent.com/LukasSchmauch/bin_packing_problem/main/01_Ergebnisse_final/Standardverfahren/results_zeitmessung_u_seed_100sec.csv'\n",
        "df_unif = pd.read_csv(url)\n",
        "url = 'https://raw.githubusercontent.com/LukasSchmauch/bin_packing_problem/main/01_Ergebnisse_final/Standardverfahren/results_zeitmessung_hard_StandardSEED123_150sec.csv'\n",
        "df_hard = pd.read_csv(url)\n",
        "\n",
        "timesteps = list(np.arange(1, 100, 1))\n",
        "yvalues = []\n",
        "itemsizes = [120,250,500,1000]\n",
        "\n",
        "plt.figure(figsize=(12,8))\n",
        "plt.title('Mittlere Abweichung der HC Lösung von LB', fontsize = 20)\n",
        "plt.xlabel('Sekunden', fontsize = 20)\n",
        "plt.hlines(1.0,0,100, label= 'Abweichung 1',colors='black', linestyles='dotted')\n",
        "plt.yticks(np.arange(0,5,0.2),fontsize=15)\n",
        "plt.xticks(np.arange(0,110,10),fontsize=15)\n",
        "plt.ylabel('Mittlere Abweichung von LB', fontsize = 20)\n",
        "for itemsize in itemsizes:\n",
        "  plt.plot(timesteps, extract_yvalues_pertimestep(df_unif, itemsize, 'uniform', timesteps))\n",
        "plt.plot(timesteps, extract_yvalues_pertimestep(df_hard, 200, 'hard', timesteps))\n",
        "plt.legend(['(U,120,150)', '(U,250,150)', '(U,500,150)','(U,1000,150)','(H,200,100000)','Abweichung 1'],prop={'size': 20})\n",
        "plt.plot()\n",
        "#from google.colab import files\n",
        "#plt.savefig(\"abc.svg\")\n",
        "#files.download(\"abc.svg\")"
      ],
      "execution_count": null,
      "outputs": [
        {
          "output_type": "execute_result",
          "data": {
            "text/plain": [
              "[]"
            ]
          },
          "metadata": {
            "tags": []
          },
          "execution_count": 29
        },
        {
          "output_type": "display_data",
          "data": {
            "image/png": "[encoded data removed]",
            "text/plain": [
              "<Figure size 864x576 with 1 Axes>"
            ]
          },
          "metadata": {
            "tags": [],
            "needs_background": "light"
          }
        }
      ]
    },
    {
      "cell_type": "markdown",
      "metadata": {
        "id": "HTs4TGs5Rqao"
      },
      "source": [
        "## Triplet"
      ]
    },
    {
      "cell_type": "code",
      "metadata": {
        "colab": {
          "base_uri": "https://localhost:8080/",
          "height": 548
        },
        "id": "mz638oFON1Eg",
        "outputId": "87399f8d-ba1a-4b13-985c-ae6cbdee5f00"
      },
      "source": [
        "url = 'https://raw.githubusercontent.com/LukasSchmauch/bin_packing_problem/main/01_Ergebnisse_final/Standardverfahren/results_zeitmessung_trip_StandardSEED123_200sec.csv'\n",
        "df = pd.read_csv(url)\n",
        "\n",
        "\n",
        "timesteps = range(1, 101)\n",
        "yvalues = []\n",
        "itemsizes = [60,120,249,501]\n",
        "\n",
        "plt.figure(figsize=(12,8))\n",
        "plt.title('Mittlere Abweichung der HC Lösung von LB', fontsize = 20)\n",
        "plt.xlabel('Sekunden', fontsize = 20)\n",
        "plt.yticks(np.arange(0,50,1),fontsize=15)\n",
        "plt.xticks(np.arange(0,110,10),fontsize=15)\n",
        "plt.hlines(1.0,0,100, colors='black', label='Abweichung 1', linestyles='dotted')\n",
        "plt.ylabel('Mittlere Abweichung von LB', fontsize = 20)\n",
        "for itemsize in itemsizes:\n",
        "  plt.plot(timesteps, extract_yvalues_pertimestep(df, itemsize, 'triplet', timesteps))\n",
        "plt.legend(['(T,60,1000)', '(T,120,1000)', '(T,249,1000)','(T,501,1000)','Abweichung 1'],prop={'size': 20})\n",
        "plt.plot()"
      ],
      "execution_count": null,
      "outputs": [
        {
          "output_type": "execute_result",
          "data": {
            "text/plain": [
              "[]"
            ]
          },
          "metadata": {
            "tags": []
          },
          "execution_count": 31
        },
        {
          "output_type": "display_data",
          "data": {
            "image/png": "[encoded data removed]",
            "text/plain": [
              "<Figure size 864x576 with 1 Axes>"
            ]
          },
          "metadata": {
            "tags": [],
            "needs_background": "light"
          }
        }
      ]
    },
    {
      "cell_type": "markdown",
      "metadata": {
        "id": "4_a3Y5VLHO1S"
      },
      "source": [
        "# Verfahrensmodifikationen"
      ]
    },
    {
      "cell_type": "markdown",
      "metadata": {
        "id": "OZvuNCWQdb-u"
      },
      "source": [
        "## Shuffle"
      ]
    },
    {
      "cell_type": "markdown",
      "metadata": {
        "id": "iJ7lpcn-OMVX"
      },
      "source": [
        "### Verteilungsfunktion Uniform"
      ]
    },
    {
      "cell_type": "code",
      "metadata": {
        "colab": {
          "base_uri": "https://localhost:8080/",
          "height": 493
        },
        "id": "nb4vVvyGPdi2",
        "outputId": "7dc38184-6576-429d-dd29-317c7219db3e"
      },
      "source": [
        "url = 'https://raw.githubusercontent.com/LukasSchmauch/bin_packing_problem/main/01_Ergebnisse_final/Standardverfahren/results_zeitmessung_u_seed_100sec.csv'\n",
        "df_1 = pd.read_csv(url)\n",
        "url = 'https://raw.githubusercontent.com/LukasSchmauch/bin_packing_problem/main/01_Ergebnisse_final/Average_Shuffle/results_zeitmessung_u_singleaverageseed_100sec.csv'\n",
        "df_2 = pd.read_csv(url)\n",
        "url = 'https://raw.githubusercontent.com/LukasSchmauch/bin_packing_problem/main/01_Ergebnisse_final/Average_Shuffle/results_zeitmessung_unif_AVGINSHUFFLESEED123_100sec.csv'\n",
        "df_3 = pd.read_csv(url)\n",
        "url = 'https://raw.githubusercontent.com/LukasSchmauch/bin_packing_problem/main/01_Ergebnisse_final/Largest_First/results_zeitmessung_unif_LargestFirstSEED123_100sec.csv'\n",
        "df_4 = pd.read_csv(url)\n",
        "time = 100.01\n",
        "df_1 = get_rel_abweichung(df_1,'uniform', time)\n",
        "df_2 = get_rel_abweichung(df_2,'uniform', time)\n",
        "df_3 = get_rel_abweichung(df_3,'uniform', time)\n",
        "df_4 = get_rel_abweichung(df_4,'uniform', time)\n",
        "dfs = [df_1,df_2,df_3, df_4]\n",
        "labels = ['uniform', 'uniform (Shuffle nur Durchschnitt)', 'uniform (Shuffle inkl. Durchschnitt)','uniform (Shuffle nur Largest First)']\n",
        "\n",
        "\n",
        "plt.figure(figsize=(10,7))\n",
        "for i,df in enumerate(dfs):\n",
        "  data = df['rel_Abweichung'].values\n",
        "  data_sorted = np.sort(data)\n",
        "  p = 1. * np.arange(len(data)) / (len(data) - 1)\n",
        "  plt.plot(data_sorted, p, label=labels[i])\n",
        "plt.xticks(fontsize=15)\n",
        "plt.yticks(fontsize=15)\n",
        "plt.legend(loc=\"lower right\",prop={'size': 15})\n",
        "plt.xlabel('rel. Abweichung in %',fontsize=20)\n",
        "plt.ylabel('kumulierte rel. Häufigkeit',fontsize=20)\n",
        "#plt.title('Verteilungsfunktion rel. Abweichung von LB (max. ' + str(time) + ') sec', fontsize=20)\n",
        "plt.title('Verteilungsfunktion rel. Abweichung von LB (max. 100 sec.)', fontsize=20)"
      ],
      "execution_count": null,
      "outputs": [
        {
          "output_type": "execute_result",
          "data": {
            "text/plain": [
              "Text(0.5, 1.0, 'Verteilungsfunktion rel. Abweichung von LB (max. 100 sec.)')"
            ]
          },
          "metadata": {
            "tags": []
          },
          "execution_count": 32
        },
        {
          "output_type": "display_data",
          "data": {
            "image/png": "[encoded data removed]",
            "text/plain": [
              "<Figure size 720x504 with 1 Axes>"
            ]
          },
          "metadata": {
            "tags": [],
            "needs_background": "light"
          }
        }
      ]
    },
    {
      "cell_type": "markdown",
      "metadata": {
        "id": "PlYQzUV4ZrAK"
      },
      "source": [
        "### Verteilungsfunktion Triplet"
      ]
    },
    {
      "cell_type": "code",
      "metadata": {
        "colab": {
          "base_uri": "https://localhost:8080/",
          "height": 493
        },
        "id": "6iDQ3UZIZuE0",
        "outputId": "e441a6f0-cce9-4aa1-d909-efae579bb01e"
      },
      "source": [
        "url = 'https://raw.githubusercontent.com/LukasSchmauch/bin_packing_problem/main/01_Ergebnisse_final/Standardverfahren/results_zeitmessung_trip_StandardSEED123_200sec.csv'\n",
        "df_4 = pd.read_csv(url)\n",
        "url = 'https://raw.githubusercontent.com/LukasSchmauch/bin_packing_problem/main/01_Ergebnisse_final/Average_Shuffle/results_zeitmessung_t_shuffleAverage_100sec.csv'\n",
        "df_5 = pd.read_csv(url)\n",
        "url = 'https://raw.githubusercontent.com/LukasSchmauch/bin_packing_problem/main/01_Ergebnisse_final/Average_Shuffle/results_zeitmessung_triplet_avginshuffleseed_250sec.csv'\n",
        "df_6 = pd.read_csv(url)\n",
        "url = 'https://raw.githubusercontent.com/LukasSchmauch/bin_packing_problem/main/01_Ergebnisse_final/Largest_First/results_zeitmessung_triplet_LargestFirstSEED123_100sec.csv'\n",
        "df_7 = pd.read_csv(url)\n",
        "time = 100.01\n",
        "df_4 = get_rel_abweichung(df_4,'triplet', time)\n",
        "df_5 = get_rel_abweichung(df_5,'triplet', time)\n",
        "df_6 = get_rel_abweichung(df_6,'triplet', time)\n",
        "df_7 = get_rel_abweichung(df_7,'triplet', time)\n",
        "dfs = [df_4,df_5,df_6, df_7]\n",
        "labels = ['triplet',  'triplet (Shuffle Durchschnitt)', 'triplet (Shuffle inkl. Durchschnitt)','triplet (Shuffle nur Largest First)']\n",
        "plt.figure(figsize=(10,7))\n",
        "for i,df in enumerate(dfs):\n",
        "  data = df['rel_Abweichung'].values\n",
        "  data_sorted = np.sort(data)\n",
        "  p = 1. * np.arange(len(data)) / (len(data) - 1)\n",
        "  plt.plot(data_sorted, p, label=labels[i])\n",
        "plt.xticks(fontsize=15)\n",
        "plt.yticks(fontsize=15)\n",
        "plt.legend(loc=\"lower right\",prop={'size': 15})\n",
        "plt.xlabel('rel. Abweichung in %',fontsize=20)\n",
        "plt.ylabel('kumulierte rel. Häufigkeit',fontsize=20)\n",
        "#plt.title('Verteilungsfunktion rel. Abweichung von LB (max. ' + str(time) + ') sec', fontsize=20)\n",
        "plt.title('Verteilungsfunktion rel. Abweichung von LB (max. 100 sec.)', fontsize=20)"
      ],
      "execution_count": null,
      "outputs": [
        {
          "output_type": "execute_result",
          "data": {
            "text/plain": [
              "Text(0.5, 1.0, 'Verteilungsfunktion rel. Abweichung von LB (max. 100 sec.)')"
            ]
          },
          "metadata": {
            "tags": []
          },
          "execution_count": 44
        },
        {
          "output_type": "display_data",
          "data": {
            "image/png": "[encoded data removed]",
            "text/plain": [
              "<Figure size 720x504 with 1 Axes>"
            ]
          },
          "metadata": {
            "tags": [],
            "needs_background": "light"
          }
        }
      ]
    },
    {
      "cell_type": "markdown",
      "metadata": {
        "id": "twtSbOveXBS4"
      },
      "source": [
        "## Anzahl Moves"
      ]
    },
    {
      "cell_type": "code",
      "metadata": {
        "colab": {
          "base_uri": "https://localhost:8080/",
          "height": 197
        },
        "id": "p3WZewhCnwIH",
        "outputId": "7c56d885-10c0-4948-d4c1-e884d2d644f9"
      },
      "source": [
        "url = 'https://raw.githubusercontent.com/LukasSchmauch/bin_packing_problem/main/01_Ergebnisse_final/Move/results_zeitmessung_unif_StandardFinalSEED123_200sec.csv'\n",
        "#url = 'https://raw.githubusercontent.com/LukasSchmauch/bin_packing_problem/main/01_Ergebnisse_final/Move/results_zeitmessung_hard_StandardFinalSEED123_200sec.csv'\n",
        "#url = 'https://raw.githubusercontent.com/LukasSchmauch/bin_packing_problem/main/01_Ergebnisse_final/Move/results_zeitmessung_triplet2_StandardFinalSEED123_200sec.csv'\n",
        "df_typ = pd.read_csv(url)\n",
        "df_typ_sec = df_typ[df_typ['elapsed_time']<100.01]\n",
        "df_by_instance = df_typ_sec.groupby(['Instanzindex']).max()\n",
        "df_by_instance['sum_moves'] = df_by_instance['num_move22'] + df_by_instance['num_move21'] + df_by_instance['num_move11']\n",
        "df_by_instance['rel22'] = df_by_instance['num_move22'] / df_by_instance['sum_moves']\n",
        "df_by_instance['rel21'] = df_by_instance['num_move21'] / df_by_instance['sum_moves']\n",
        "df_by_instance['rel11'] = df_by_instance['num_move11'] / df_by_instance['sum_moves']\n",
        "df_by_instance.groupby('Anzahl_Items').mean()[['num_move22','num_move21','num_move11','rel22','rel21','rel11']]\n"
      ],
      "execution_count": null,
      "outputs": [
        {
          "output_type": "execute_result",
          "data": {
            "text/html": [
              "<div>\n",
              "<style scoped>\n",
              "    .dataframe tbody tr th:only-of-type {\n",
              "        vertical-align: middle;\n",
              "    }\n",
              "\n",
              "    .dataframe tbody tr th {\n",
              "        vertical-align: top;\n",
              "    }\n",
              "\n",
              "    .dataframe thead th {\n",
              "        text-align: right;\n",
              "    }\n",
              "</style>\n",
              "<table border=\"1\" class=\"dataframe\">\n",
              "  <thead>\n",
              "    <tr style=\"text-align: right;\">\n",
              "      <th></th>\n",
              "      <th>num_move22</th>\n",
              "      <th>num_move21</th>\n",
              "      <th>num_move11</th>\n",
              "      <th>rel22</th>\n",
              "      <th>rel21</th>\n",
              "      <th>rel11</th>\n",
              "    </tr>\n",
              "    <tr>\n",
              "      <th>Anzahl_Items</th>\n",
              "      <th></th>\n",
              "      <th></th>\n",
              "      <th></th>\n",
              "      <th></th>\n",
              "      <th></th>\n",
              "      <th></th>\n",
              "    </tr>\n",
              "  </thead>\n",
              "  <tbody>\n",
              "    <tr>\n",
              "      <th>120</th>\n",
              "      <td>1708.4</td>\n",
              "      <td>166.05</td>\n",
              "      <td>2319.50</td>\n",
              "      <td>0.494329</td>\n",
              "      <td>0.050348</td>\n",
              "      <td>0.455323</td>\n",
              "    </tr>\n",
              "    <tr>\n",
              "      <th>250</th>\n",
              "      <td>4896.7</td>\n",
              "      <td>428.05</td>\n",
              "      <td>5397.95</td>\n",
              "      <td>0.510754</td>\n",
              "      <td>0.042812</td>\n",
              "      <td>0.446434</td>\n",
              "    </tr>\n",
              "    <tr>\n",
              "      <th>500</th>\n",
              "      <td>1989.4</td>\n",
              "      <td>182.80</td>\n",
              "      <td>2130.10</td>\n",
              "      <td>0.487407</td>\n",
              "      <td>0.044453</td>\n",
              "      <td>0.468139</td>\n",
              "    </tr>\n",
              "    <tr>\n",
              "      <th>1000</th>\n",
              "      <td>1434.8</td>\n",
              "      <td>130.20</td>\n",
              "      <td>1468.95</td>\n",
              "      <td>0.495223</td>\n",
              "      <td>0.045293</td>\n",
              "      <td>0.459485</td>\n",
              "    </tr>\n",
              "  </tbody>\n",
              "</table>\n",
              "</div>"
            ],
            "text/plain": [
              "              num_move22  num_move21  num_move11     rel22     rel21     rel11\n",
              "Anzahl_Items                                                                  \n",
              "120               1708.4      166.05     2319.50  0.494329  0.050348  0.455323\n",
              "250               4896.7      428.05     5397.95  0.510754  0.042812  0.446434\n",
              "500               1989.4      182.80     2130.10  0.487407  0.044453  0.468139\n",
              "1000              1434.8      130.20     1468.95  0.495223  0.045293  0.459485"
            ]
          },
          "metadata": {
            "tags": []
          },
          "execution_count": 41
        }
      ]
    },
    {
      "cell_type": "code",
      "metadata": {
        "id": "RCVP8fzNXF3L",
        "colab": {
          "base_uri": "https://localhost:8080/",
          "height": 548
        },
        "outputId": "3895f941-6b75-4732-c965-898a7aaba3a2"
      },
      "source": [
        "fig = plt.figure(figsize=(12,8))\n",
        "ax = fig.add_subplot(111)\n",
        "\n",
        "ind = np.arange(3)  # the x locations for the groups\n",
        "width = 0.27       # the width of the bars\n",
        "rects1 = ax.bar(ind, [0.496928,0.577377,0.515108], width, color='darkblue')\n",
        "rects2 = ax.bar(ind+width, [0.045726,0,0], width, color='blue')\n",
        "rects3 = ax.bar(ind+width*2, [0.457345,0.422623,0.484892], width, color='lightblue')\n",
        "\n",
        "ax.set_ylabel('Scores')\n",
        "ax.set_xticks(ind+width)\n",
        "ax.set_xticklabels(('Uniform', 'Hard', 'Triplet'))\n",
        "ax.legend( (rects1[0], rects2[0], rects3[0]), ('2:2', '2:1', '1:1'),prop={'size': 15})\n",
        "plt.title('Relative Häufigkeit der Moves', fontsize=20)\n",
        "plt.xticks(fontsize=15)\n",
        "plt.yticks(np.arange(0,1.1,0.1),fontsize=15)\n",
        "plt.xlabel('Instanzgruppen', fontsize=20)\n",
        "plt.ylabel('relative Häufigkeit', fontsize=20)\n",
        "\n"
      ],
      "execution_count": null,
      "outputs": [
        {
          "output_type": "execute_result",
          "data": {
            "text/plain": [
              "Text(0, 0.5, 'relative Häufigkeit')"
            ]
          },
          "metadata": {
            "tags": []
          },
          "execution_count": 46
        },
        {
          "output_type": "display_data",
          "data": {
            "image/png": "[encoded data removed]",
            "text/plain": [
              "<Figure size 864x576 with 1 Axes>"
            ]
          },
          "metadata": {
            "tags": [],
            "needs_background": "light"
          }
        }
      ]
    },
    {
      "cell_type": "markdown",
      "metadata": {
        "id": "38U1f1dXzpU3"
      },
      "source": [
        "### Verteilungsfunktion Uniform Triplet"
      ]
    },
    {
      "cell_type": "code",
      "metadata": {
        "colab": {
          "base_uri": "https://localhost:8080/",
          "height": 490
        },
        "id": "wyQKZv_sfWWW",
        "outputId": "ee6bbf4f-171f-416f-ec81-6144cdc797d3"
      },
      "source": [
        "url = 'https://raw.githubusercontent.com/LukasSchmauch/bin_packing_problem/main/01_Ergebnisse_final/Standardverfahren/results_zeitmessung_trip_StandardSEED123_200sec.csv'\n",
        "df_1 = pd.read_csv(url)\n",
        "url = 'https://raw.githubusercontent.com/LukasSchmauch/bin_packing_problem/main/01_Ergebnisse_final/Move/results_zeitmessung_trip_StandardOhne2%3A1SEED123_100sec.csv'\n",
        "df_2 = pd.read_csv(url)\n",
        "url = 'https://raw.githubusercontent.com/LukasSchmauch/bin_packing_problem/main/01_Ergebnisse_final/Standardverfahren/results_zeitmessung_u_seed_100sec.csv'\n",
        "df_3 = pd.read_csv(url)\n",
        "url = 'https://raw.githubusercontent.com/LukasSchmauch/bin_packing_problem/main/01_Ergebnisse_final/Move/results_zeitmessung_unif_StandardOhne2%3A1SEED123_100sec.csv'\n",
        "df_4 = pd.read_csv(url)\n",
        "time = 100.01\n",
        "df_1 = get_rel_abweichung(df_1,'triplet', time)\n",
        "df_2 = get_rel_abweichung(df_2,'triplet', time)\n",
        "df_3 = get_rel_abweichung(df_3,'uniform', time)\n",
        "df_4 = get_rel_abweichung(df_4,'uniform', time)\n",
        "dfs = [df_1,df_2,df_3, df_4]\n",
        "labels = ['triplet',  'triplet (ohne 2:1 Move)', 'uniform','uniform (ohne 2:1 Move)']\n",
        "plt.figure(figsize=(10,7))\n",
        "for i,df in enumerate(dfs):\n",
        "  data = df['rel_Abweichung'].values\n",
        "  data_sorted = np.sort(data)\n",
        "  p = 1. * np.arange(len(data)) / (len(data) - 1)\n",
        "  plt.plot(data_sorted, p, label=labels[i])\n",
        "plt.xticks(fontsize=15)\n",
        "plt.yticks(fontsize=15)\n",
        "plt.legend(loc=\"lower right\",prop={'size': 15})\n",
        "plt.xlabel('rel. Abweichung in %',fontsize=15)\n",
        "plt.ylabel('kumulierte rel. Häufigkeit',fontsize=20)\n",
        "#plt.title('Verteilungsfunktion rel. Abweichung von LB (max. ' + str(time) + ') sec', fontsize=20)\n",
        "plt.title('Verteilungsfunktion rel. Abweichung von LB (max. 100 sec.)', fontsize=20)"
      ],
      "execution_count": null,
      "outputs": [
        {
          "output_type": "execute_result",
          "data": {
            "text/plain": [
              "Text(0.5, 1.0, 'Verteilungsfunktion rel. Abweichung von LB (max. 100 sec.)')"
            ]
          },
          "metadata": {
            "tags": []
          },
          "execution_count": 48
        },
        {
          "output_type": "display_data",
          "data": {
            "image/png": "[encoded data removed]",
            "text/plain": [
              "<Figure size 720x504 with 1 Axes>"
            ]
          },
          "metadata": {
            "tags": [],
            "needs_background": "light"
          }
        }
      ]
    },
    {
      "cell_type": "code",
      "metadata": {
        "colab": {
          "base_uri": "https://localhost:8080/"
        },
        "id": "UIfWFBQL6Kym",
        "outputId": "8e6c2b8e-731a-4357-d43d-33a8dde6c485"
      },
      "source": [
        "url = 'https://raw.githubusercontent.com/LukasSchmauch/bin_packing_problem/main/01_Ergebnisse_final/Standardverfahren/results_zeitmessung_trip_StandardSEED123_200sec.csv'\n",
        "df_1 = pd.read_csv(url)\n",
        "url = 'https://raw.githubusercontent.com/LukasSchmauch/bin_packing_problem/main/01_Ergebnisse_final/Move/results_zeitmessung_trip_StandardOhne2%3A1SEED123_100sec.csv'\n",
        "df_2 = pd.read_csv(url)\n",
        "\n",
        "df_1 = df_1[df_1['Typ']=='triplet']\n",
        "df_typ_sec = df_1[df_1['elapsed_time']<100.01]\n",
        "df_by_instance = df_typ_sec.groupby(['Instanzindex']).max()\n",
        "print(df_by_instance.groupby('Anzahl_Items').mean().drop(['elapsed_time','HC','LB','Hit_LB','Bins_beyond_LB'], axis = 1))\n",
        "\n",
        "print('ohne 2:1, aber Verzerrung bei 60er, da LB erreicht wird')\n",
        "df_2 = df_2[df_2['Typ']=='triplet']\n",
        "df_typ_sec = df_2[df_2['elapsed_time']<100.01]\n",
        "df_by_instance = df_typ_sec.groupby(['Instanzindex']).max()\n",
        "print(df_by_instance.groupby('Anzahl_Items').mean().drop(['elapsed_time','HC','LB','Hit_LB','Bins_beyond_LB'], axis = 1))"
      ],
      "execution_count": null,
      "outputs": [
        {
          "output_type": "stream",
          "text": [
            "              Bin_Kapazitaet  Iteration\n",
            "Anzahl_Items                           \n",
            "60                    1000.0    2443.95\n",
            "120                   1000.0    1795.40\n",
            "249                   1000.0    1581.30\n",
            "501                   1000.0     919.15\n",
            "ohne 2:1, aber Verzerrung bei 60er, da LB erreicht wird\n",
            "              Bin_Kapazitaet  Iteration\n",
            "Anzahl_Items                           \n",
            "60                    1000.0    2167.15\n",
            "120                   1000.0    2592.25\n",
            "249                   1000.0    1963.75\n",
            "501                   1000.0     986.35\n"
          ],
          "name": "stdout"
        }
      ]
    },
    {
      "cell_type": "markdown",
      "metadata": {
        "id": "xpUOaagT0uHO"
      },
      "source": [
        "## Permutation: Minimale Itemzahl"
      ]
    },
    {
      "cell_type": "code",
      "metadata": {
        "colab": {
          "base_uri": "https://localhost:8080/",
          "height": 490
        },
        "id": "7LUv4SJY00lg",
        "outputId": "b7b8464f-b953-429c-c8fe-962fa5e3cf06"
      },
      "source": [
        "url = 'https://raw.githubusercontent.com/LukasSchmauch/bin_packing_problem/main/01_Ergebnisse_final/Standardverfahren/results_zeitmessung_u_seed_100sec.csv'\n",
        "df_3 = pd.read_csv(url)\n",
        "url = 'https://raw.githubusercontent.com/LukasSchmauch/bin_packing_problem/main/01_Ergebnisse_final/Permutation/results_zeitmessung_unif_PBYHSEED123_100sec.csv'\n",
        "df_4 = pd.read_csv(url)\n",
        "time = 100.01\n",
        "df_3 = get_rel_abweichung(df_3,'uniform', time)\n",
        "df_4 = get_rel_abweichung(df_4,'uniform', time)\n",
        "dfs = [df_3, df_4]\n",
        "labels = ['uniform','uniform (Permuttion - Min. Itemzahl)']\n",
        "plt.figure(figsize=(10,7))\n",
        "for i,df in enumerate(dfs):\n",
        "  data = df['rel_Abweichung'].values\n",
        "  data_sorted = np.sort(data)\n",
        "  p = 1. * np.arange(len(data)) / (len(data) - 1)\n",
        "  plt.plot(data_sorted, p, label=labels[i])\n",
        "plt.xticks(fontsize=15)\n",
        "plt.yticks(fontsize=15)\n",
        "plt.legend(loc=\"lower right\",prop={'size': 15})\n",
        "plt.xlabel('rel. Abweichung in %',fontsize=15)\n",
        "plt.ylabel('kumulierte rel. Häufigkeit',fontsize=20)\n",
        "#plt.title('Verteilungsfunktion rel. Abweichung von LB (max. ' + str(time) + ') sec', fontsize=20)\n",
        "plt.title('Verteilungsfunktion rel. Abweichung von LB (max. 100 sec.)', fontsize=20)"
      ],
      "execution_count": null,
      "outputs": [
        {
          "output_type": "execute_result",
          "data": {
            "text/plain": [
              "Text(0.5, 1.0, 'Verteilungsfunktion rel. Abweichung von LB (max. 100 sec.)')"
            ]
          },
          "metadata": {
            "tags": []
          },
          "execution_count": 52
        },
        {
          "output_type": "display_data",
          "data": {
            "image/png": "[encoded data removed]",
            "text/plain": [
              "<Figure size 720x504 with 1 Axes>"
            ]
          },
          "metadata": {
            "tags": [],
            "needs_background": "light"
          }
        }
      ]
    },
    {
      "cell_type": "markdown",
      "metadata": {
        "id": "oqpvbiGIpFAi"
      },
      "source": [
        "# _________________________________________________________"
      ]
    },
    {
      "cell_type": "code",
      "metadata": {
        "colab": {
          "base_uri": "https://localhost:8080/"
        },
        "id": "ToQMrL5Z-LjR",
        "outputId": "245846b6-2c2a-4da6-89de-0a7924c379fa"
      },
      "source": [
        "url = 'https://raw.githubusercontent.com/LukasSchmauch/bin_packing_problem/main/01_Ergebnisse_final/Permutation/results_zeitmessung_unif_PBYHSEED123_100sec.csv'\n",
        "df = pd.read_csv(url)\n",
        "df_typ = df[df['Typ']=='uniform']\n",
        "df_typ_sec = df_typ[df_typ['elapsed_time']<100.01]\n",
        "df_by_instance = df_typ_sec.groupby(['Instanzindex']).min()\n",
        "print('Permuation: Min Itemzahl Uniform')\n",
        "print(df_by_instance.groupby('Anzahl_Items').mean().drop(['Iteration','HC','elapsed_time','Hit_LB'], axis = 1))\n",
        "\n",
        "url = 'https://raw.githubusercontent.com/LukasSchmauch/bin_packing_problem/main/01_Ergebnisse_final/Move/results_zeitmessung_unif_StandardFinalSEED123_200sec.csv'\n",
        "df = pd.read_csv(url)\n",
        "df_typ = df[df['Typ']=='uniform']\n",
        "df_typ_sec = df_typ[df_typ['elapsed_time']<100.01]\n",
        "df_by_instance = df_typ_sec.groupby(['Instanzindex']).min()\n",
        "print('Uniform Reverse')\n",
        "print(df_by_instance.groupby('Anzahl_Items').mean().drop(['Iteration','HC','elapsed_time','Hit_LB','num_move22','num_move21','num_move11','constraint_checks'], axis = 1))\n",
        "url = 'https://raw.githubusercontent.com/LukasSchmauch/bin_packing_problem/main/01_Ergebnisse_final/Move/results_zeitmessung_hard_StandardFinalSEED123_200sec.csv'\n",
        "df = pd.read_csv(url)\n",
        "df_typ = df[df['Typ']=='hard']\n",
        "df_typ_sec = df_typ[df_typ['elapsed_time']<100.01]\n",
        "df_by_instance = df_typ_sec.groupby(['Instanzindex']).min()\n",
        "print('Hard Reverse')\n",
        "print(df_by_instance.groupby('Anzahl_Items').mean().drop(['Iteration','HC','elapsed_time','Hit_LB','num_move22','num_move21','num_move11','constraint_checks'], axis = 1))\n",
        "url = 'https://raw.githubusercontent.com/LukasSchmauch/bin_packing_problem/main/01_Ergebnisse_final/Move/results_zeitmessung_triplet2_StandardFinalSEED123_200sec.csv'\n",
        "df = pd.read_csv(url)\n",
        "df_typ = df[df['Typ']=='triplet']\n",
        "df_typ_sec = df_typ[df_typ['elapsed_time']<100.01]\n",
        "df_by_instance = df_typ_sec.groupby(['Instanzindex']).min()\n",
        "print('Triplet Reverse: für 501er Zeit auf 200 setzen --> dann 1.1')\n",
        "print(df_by_instance.groupby('Anzahl_Items').mean().drop(['Iteration','HC','elapsed_time','Hit_LB','num_move22','num_move21','num_move11','constraint_checks'], axis = 1))"
      ],
      "execution_count": null,
      "outputs": [
        {
          "output_type": "stream",
          "text": [
            "Permuation: Min Itemzahl Uniform\n",
            "              Bin_Kapazitaet      LB  Bins_beyond_LB\n",
            "Anzahl_Items                                        \n",
            "120                    150.0   49.05             0.2\n",
            "250                    150.0  101.55             0.4\n",
            "500                    150.0  201.20             0.4\n",
            "1000                   150.0  400.55             0.6\n",
            "Uniform Reverse\n",
            "              Bin_Kapazitaet      LB  Bins_beyond_LB\n",
            "Anzahl_Items                                        \n",
            "120                    150.0   49.05            0.10\n",
            "250                    150.0  101.55            0.25\n",
            "500                    150.0  201.20            0.15\n",
            "1000                   150.0  400.55            0.25\n",
            "Hard Reverse\n",
            "              Bin_Kapazitaet    LB  Bins_beyond_LB\n",
            "Anzahl_Items                                      \n",
            "200                 100000.0  55.5             0.8\n",
            "Triplet Reverse: für 501er Zeit auf 200 setzen --> dann 1.1\n",
            "              Bin_Kapazitaet     LB  Bins_beyond_LB\n",
            "Anzahl_Items                                       \n",
            "60                    1000.0   20.0            1.00\n",
            "120                   1000.0   40.0            1.00\n",
            "249                   1000.0   83.0            1.00\n",
            "501                   1000.0  167.0            1.55\n"
          ],
          "name": "stdout"
        }
      ]
    }
  ]
}